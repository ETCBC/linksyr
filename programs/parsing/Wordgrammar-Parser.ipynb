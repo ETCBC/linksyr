{
 "cells": [
  {
   "cell_type": "markdown",
   "metadata": {},
   "source": [
    "### Een parser-generator voor de wordgrammar"
   ]
  },
  {
   "cell_type": "markdown",
   "metadata": {},
   "source": [
    "De parser-generator voor de ETCBC-wordgrammar-bestanden is gegenereerd met Yapps2 (zie de website: http://theory.stanford.edu/~amitp/yapps/ en https://github.com/smurfix/yapps) met het grammar-bestand `wgr.g`, wat resulteert in de grammar-parser `wgr.py`. Dat script is afhankelijk van de runtime-module van Yapps, hier meegeleverd als het bestand `yapps-runtime.py`.\n",
    "\n",
    "Wat we eigenlijk willen is niet het parsen van de `wordgrammar`-bestanden, wat `wgr.py` doet, maar het parsen van de morphologische analyse van de ETCBC-database. Dat gebeurt in `wrdgrm.py`. Dat is, behalve van `wgr.py` en `yapps-runtime.py`, nog afhankelijk van de modules `alphabet.py` en `lexicon.py` (**TODO**: dat moet makkelijker kunnen). Tenslotte zijn de databestanden vereist: het alfabet, het lexicon en de wordgrammar zelf."
   ]
  },
  {
   "cell_type": "code",
   "execution_count": 5,
   "metadata": {},
   "outputs": [],
   "source": [
    "# eerst modules importeren\n",
    "import os, wrdgrm"
   ]
  },
  {
   "cell_type": "code",
   "execution_count": 6,
   "metadata": {},
   "outputs": [],
   "source": [
    "# bestandslocaties\n",
    "data_dir = '/home/gdwarf/projects/vu/LinkSyr/data'\n",
    "word_grammar_file = os.path.join(data_dir, 'syrwgr')\n",
    "lexicon_file = os.path.join(data_dir, 'syrlex')\n",
    "alphabet_file = os.path.join(data_dir, 'alphabet')"
   ]
  },
  {
   "cell_type": "code",
   "execution_count": 7,
   "metadata": {},
   "outputs": [],
   "source": [
    "# dan kan de parser worden geïnitialiseerd\n",
    "w = wrdgrm.wrdgrm(word_grammar_file, lexicon_file, alphabet_file)"
   ]
  },
  {
   "cell_type": "code",
   "execution_count": 20,
   "metadata": {},
   "outputs": [
    {
     "data": {
      "text/plain": [
       "{'functions': {'gn': 'm',\n",
       "  'nu': 'sg',\n",
       "  'ps': 'third',\n",
       "  'sp': 'verb',\n",
       "  'st': False,\n",
       "  'vo': 'act',\n",
       "  'vs': 'pe',\n",
       "  'vt': 'pf'},\n",
       " 'lex': ('12503',\n",
       "  [('sp', 'verb'),\n",
       "   ('gl',\n",
       "    'to see, to perceive, to consider, ETHPE to be seen, ETHPEAU to obtain honour, to distinguish oneself')]),\n",
       " 'morphemes': {'lex': ('XZJ=', 'XZ>', 'XZ(J&>='), 'vbe': ('', '', '')}}"
      ]
     },
     "execution_count": 20,
     "metadata": {},
     "output_type": "execute_result"
    }
   ],
   "source": [
    "w.analyze_word('XZ(J&>=[')"
   ]
  },
  {
   "cell_type": "code",
   "execution_count": 21,
   "metadata": {},
   "outputs": [
    {
     "data": {
      "text/plain": [
       "('12503',\n",
       " [('sp', 'verb'),\n",
       "  ('gl',\n",
       "   'to see, to perceive, to consider, ETHPE to be seen, ETHPEAU to obtain honour, to distinguish oneself')])"
      ]
     },
     "execution_count": 21,
     "metadata": {},
     "output_type": "execute_result"
    }
   ],
   "source": [
    "w.lexicon['XZJ=']"
   ]
  },
  {
   "cell_type": "code",
   "execution_count": 16,
   "metadata": {},
   "outputs": [
    {
     "data": {
      "text/plain": [
       "{'<': 'e',\n",
       " '>': 'alaf',\n",
       " 'B': 'beth',\n",
       " 'C': 'shin',\n",
       " 'D': 'dalath',\n",
       " 'G': 'gamal',\n",
       " 'H': 'he',\n",
       " 'J': 'yod',\n",
       " 'K': 'kaf',\n",
       " 'L': 'lamad',\n",
       " 'M': 'mim',\n",
       " 'N': 'nun',\n",
       " 'P': 'pe',\n",
       " 'Q': 'qof',\n",
       " 'R': 'resh',\n",
       " 'S': 'semkath',\n",
       " 'T': 'taw',\n",
       " 'V': 'thet',\n",
       " 'W': 'waw',\n",
       " 'X': 'heth',\n",
       " 'Y': 'tsade',\n",
       " 'Z': 'zain'}"
      ]
     },
     "execution_count": 16,
     "metadata": {},
     "output_type": "execute_result"
    }
   ],
   "source": [
    "w.alphabet"
   ]
  }
 ],
 "metadata": {
  "kernelspec": {
   "display_name": "Python 3",
   "language": "python",
   "name": "python3"
  },
  "language_info": {
   "codemirror_mode": {
    "name": "ipython",
    "version": 3
   },
   "file_extension": ".py",
   "mimetype": "text/x-python",
   "name": "python",
   "nbconvert_exporter": "python",
   "pygments_lexer": "ipython3",
   "version": "3.6.3"
  }
 },
 "nbformat": 4,
 "nbformat_minor": 2
}
