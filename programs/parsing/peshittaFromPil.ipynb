{
 "cells": [
  {
   "cell_type": "code",
   "execution_count": 1,
   "metadata": {},
   "outputs": [],
   "source": [
    "import os"
   ]
  },
  {
   "cell_type": "code",
   "execution_count": 2,
   "metadata": {},
   "outputs": [],
   "source": [
    "GH_BASE = os.path.expanduser('~/github')\n",
    "ORG = 'etcbc'\n",
    "REPO = 'linksyr'\n",
    "PIL_PATH = 'data/peshitta/pil'\n",
    "BOOK_DATA = f'{GH_BASE}/{ORG}/{REPO}/{PIL_PATH}/books'"
   ]
  },
  {
   "cell_type": "code",
   "execution_count": 19,
   "metadata": {},
   "outputs": [],
   "source": [
    "def doText(book, chapter, verse, text, results):\n",
    "  results['chars'] |= set(''.join(text.strip().split()))"
   ]
  },
  {
   "cell_type": "code",
   "execution_count": 20,
   "metadata": {},
   "outputs": [],
   "source": [
    "def doBooks():\n",
    "  bookInfo = {}\n",
    "  with os.scandir(BOOK_DATA) as bookDir:\n",
    "    for bookEntry in bookDir:\n",
    "      if not bookEntry.is_file():\n",
    "        continue\n",
    "      bookFile = bookEntry.name\n",
    "      thisBookInfo = {}\n",
    "      results = dict(chars=set())\n",
    "      with open(f'{BOOK_DATA}/{bookFile}') as bh:\n",
    "        (curChapter, curVerse, curText) = (None, None, None)\n",
    "        for line in bh:\n",
    "          if line.startswith('%'):\n",
    "            comps = line[1:-1].split()\n",
    "            if len(comps) == 0:\n",
    "              continue\n",
    "            keyword = comps[0]\n",
    "            args = comps[1:]\n",
    "            if keyword == 'bookname':\n",
    "              thisBookInfo['acro'] = ' '.join(args)\n",
    "            elif keyword == 'language':\n",
    "              thisBookInfo['language'] = ' '.join(args)\n",
    "            elif keyword == 'verse':\n",
    "              if curVerse:\n",
    "                doText(bookFile, curChapter, curVerse, curText, results)\n",
    "              (curChapter, curVerse) = args[0].split(',')\n",
    "              curText = ''\n",
    "          elif curVerse:\n",
    "            curText += line\n",
    "      thisBookInfo['chars'] = ''.join(sorted(results['chars']))\n",
    "      bookInfo[bookFile] = thisBookInfo\n",
    "  return bookInfo"
   ]
  },
  {
   "cell_type": "code",
   "execution_count": 24,
   "metadata": {},
   "outputs": [
    {
     "name": "stdout",
     "output_type": "stream",
     "text": [
      "ALL CHARS = !\"#*./:<=>@ABCDEGHJKLMNPQRSTVWXYZ\\^_o\n",
      "1Chr  = 1Chronicles          in syriac  having \"#.:<=>BCDGHJKLMNPQRSTVWXYZ\\^_\n",
      "1Rg   = 1Kings               in syriac  having \"#.<=>BCDGHJKLMNPQRSTVWXYZ^\n",
      "1Mc   = 1Maccabees_A         in syriac  having \"*<>BCDGHJKLMNPQRSTVWXYZ\n",
      "1Mc   = 1Maccabees_B         in syriac  having \"#.<=>BCDGHJKLMNPQRSTVWXYZ^\n",
      "1Sm   = 1Samuel              in syriac  having \"#<>BCDGHJKLMNPQRSTVWXYZ^\n",
      "2Chr  = 2Chronicles          in syriac  having \"#<>BCDGHJKLMNPQRSTVWXYZ^\n",
      "2Rg   = 2Kings               in syriac  having \"#.<=>BCDGHJKLMNPQRSTVWXYZ^\n",
      "2Mc   = 2Maccabees           in syriac  having \"<>BCDGHJKLMNPQRSTVWXYZ\n",
      "2Sm   = 2Samuel              in syriac  having \"#<>BCDGHJKLMNPQRSTVWXYZ^\n",
      "3Esr  = 3Esdras              in syriac  having \"#*.<=>BCDGHJKLMNPQRSTVWXYZ^\n",
      "3Mc   = 3Maccabees           in syriac  having \".<=>BCDGHJKLMNPQRSTVWXYZ^\n",
      "4Esr  = 4Esdras              in syriac  having !\"#*.<=>BCDGHJKLMNPQRSTVWXYZ^_o\n",
      "4Mc   = 4Maccabees           in syriac  having \"#*.:<=>@BCDGHJKLMNPQRSTVWXYZ^\n",
      "Am    = Amos                 in syriac  having \"#<>BCDGHJKLMNPQRSTVWXYZ^\n",
      "ApBar = Apocalypse_of_Baruch in syriac  having !\"#*.<=>@BCDGHJKLMNPQRSTVWXYZ^_o\n",
      "ApcPs = Apocryphal_Psalms    in syriac  having !\"#.<=>BCDGHJKLMNPQRSTVWXYZ^\n",
      "ApcPs = Apocryphal_Psalms_A  in syriac  having \"#.<=>BCDGHJKLMNPQRTVWXYZ^\n",
      "ApcPs = Apocryphal_Psalms_B  in syriac  having !\"#.:<=>BCDGHJKLMNPQRSTVWXYZ^\n",
      "Bar   = Baruch               in syriac  having !\"#./<=>@BCDGHJKLMNPQRSTVWXYZ\\^o\n",
      "BelDr = Bel_and_the_Dragon   in syriac  having \"#<>BCDGHJKLMNPQRSTVWXYZ^\n",
      "Dn    = Daniel               in syriac  having \"#.<=>BCDGHJKLMNPQRSTVWXYZ^\n",
      "Dt    = Deuteronomy          in syriac  having \"#.<=>BCDGHJKLMNPQRSTVWXYZ^\n",
      "Ec    = Ecclesiastes         in syriac  having \"#<>BCDGHJKLMNPQRSTVWXYZ^\n",
      "Est   = Esther               in syriac  having \"#*./:<=>BCDGHJKLMNPQRSTVWXYZ\\^\n",
      "Ex    = Exodus               in syriac  having \"#.<=>BCDGHJKLMNPQRSTVWXYZ^\n",
      "Ez    = Ezekiel              in syriac  having \"#.<=>BCDGHJKLMNPQRSTVWXYZ^\n",
      "Ezr   = Ezra                 in syriac  having \"#<>BCDGHJKLMNPQRSTVWXYZ^\n",
      "Gn    = Genesis              in syriac  having \"#.<=>BCDGHJKLMNPQRSTVWXYZ^\n",
      "Hb    = Habakkuk             in syriac  having \"#<>BCDGHJKLMNPQRSTVWXYZ^\n",
      "Hg    = Haggai               in syriac  having \"<>BCDGHJKLMNPQRSTVWXYZ^\n",
      "Hs    = Hosea                in syriac  having <>BCDGHJKLMNPQRSTVWXYZ\n",
      "Is    = Isaiah               in syriac  having \"#.<=>BCDGHJKLMNPQRSTVWXYZ^\n",
      "Jr    = Jeremiah             in syriac  having \"#.<=>BCDGHJKLMNPQRSTVWXYZ^\n",
      "Jb    = Job                  in syriac  having \"#<>BCDGHJKLMNPQRSTVWXYZ^\n",
      "Jl    = Joel                 in syriac  having \"<>BCDGHJKLMNPQRSTVWXYZ^\n",
      "Jon   = Jonah                in syriac  having \".<=>BCDGHJKLMNPQRSTVWXYZ^\n",
      "Jos   = Joshua               in syriac  having \"#.<=>ABCDGHJKLMNPQRSTVWXYZ^\n",
      "Jd    = Judges               in syriac  having \"<>BCDGHJKLMNPQRSTVWXYZ^\n",
      "Jdt   = Judith               in syriac  having !\"#*.<=>BCDGHJKLMNPQRSTVWXYZ^o\n",
      "Thr   = Lamentations         in syriac  having !\"#.:<=>@BCDGHJKLMNPQRSTVWXYZ\\^o\n",
      "EpBar = Letter_of_Baruch_A   in syriac  having \"#.:<=>@BCDGHJKLMNPQRSTVWXYZ^o\n",
      "EpBar = Letter_of_Baruch_B   in syriac  having \"#*.:<=>BCDGHJKLMNPQRSTVWXYZ^\n",
      "EpJr  = Letter_of_Jeremiah   in syriac  having \"#.:<=>@BCDGHJKLMNPQRSTVWXYZ^o\n",
      "Lv    = Leviticus            in syriac  having \"#.<=>BCDGHJKLMNPQRSTVWXYZ^\n",
      "Ml    = Malachi              in syriac  having \"<>BCDGHJKLMNPQRSTVWXYZ^\n",
      "Mi    = Micah                in syriac  having \"#<>BCDGHJKLMNPQRSTVWXYZ^\n",
      "Na    = Nahum                in syriac  having \"<>BCDGHJKLMNPQRSTVWXYZ^\n",
      "Neh   = Nehemia              in syriac  having \"#<>BCDGHJKLMNPQRSTVWXYZ^\n",
      "Nm    = Numbers              in syriac  having \".<=>BCDGHJKLMNPQRSTVWXYZ^\n",
      "Ob    = Obadiah              in syriac  having \"<>BCDGHJKLMNPQRSTVWXYZ^\n",
      "Oda   = Odes                 in syriac  having !\"#.<=>BCDGHJKLMNPQRSTVWXYZ^\n",
      "OrM   = Prayer_of_Manasseh_A in syriac  having \"#.<=>BCDGHJKLMNPQRSTVWXYZ^\n",
      "OrM   = Prayer_of_Manasseh_B in syriac  having \"#.<=>BCDGHJKLMNPQRSTVWXYZ^\n",
      "Pr    = Proverbs             in syriac  having \"#.<=>BCDGHJKLMNPQRSTVWXYZ^\n",
      "Ps    = Psalms               in syriac  having \"#.<=>BCDGHJKLMNPQRSTVWXYZ^\n",
      "PsS   = Psalms_of_Solomon    in syriac  having \"#.<=>ABCDEGHJKLMNPQRSTVWXYZ^_\n",
      "Ru    = Ruth                 in syriac  having !\"#*.<=>@BCDGHJKLMNPQRSTVWXYZ^\n",
      "Sir   = Sirach               in syriac  having \"#*.<=>BCDGHJKLMNPQRSTVWXYZ^\n",
      "Ct    = Song_of_Songs        in syriac  having \"<>BCDGHJKLMNPQRSTVWXYZ^\n",
      "Sus   = Susanna              in syriac  having \"#*.:<=>BCDGHJKLMNPQRSTVWXYZ\\^_\n",
      "Tb    = Tobit_A              in syriac  having !\"#*.<=>BCDGHJKLMNPQRSTVWXYZ\\^\n",
      "Tb    = Tobit_B              in syriac  having \"#*.<=>BCDGHJKLMNPQRSTVWXYZ^\n",
      "Sap   = Wisdom_of_Solomon    in syriac  having \"#.<=>BCDGHJKLMNPQRSTVWXYZ^\n",
      "Sa    = Zechariah            in syriac  having \"<>BCDGHJKLMNPQRSTVWXYZ^\n",
      "Zf    = Zephaniah            in syriac  having \"<>BCDGHJKLMNPQRSTVWXYZ^\n"
     ]
    }
   ],
   "source": [
    "bookInfo = doBooks()\n",
    "\n",
    "allChars = set()\n",
    "for thisBookInfo in bookInfo.values():\n",
    "  allChars |= set(thisBookInfo['chars'])\n",
    "  \n",
    "sortedChars = ''.join(sorted(allChars))\n",
    "\n",
    "print(f'ALL CHARS = {sortedChars}')\n",
    "\n",
    "for (book, thisBookInfo) in sorted(bookInfo.items()):\n",
    "  acro = thisBookInfo['acro']\n",
    "  lang = thisBookInfo['language']\n",
    "  chars = thisBookInfo['chars']\n",
    "  print(f'{acro:<5} = {book:<20} in {lang:<7} having {chars}')"
   ]
  },
  {
   "cell_type": "code",
   "execution_count": null,
   "metadata": {},
   "outputs": [],
   "source": []
  }
 ],
 "metadata": {
  "kernelspec": {
   "display_name": "Python 3",
   "language": "python",
   "name": "python3"
  },
  "language_info": {
   "codemirror_mode": {
    "name": "ipython",
    "version": 3
   },
   "file_extension": ".py",
   "mimetype": "text/x-python",
   "name": "python",
   "nbconvert_exporter": "python",
   "pygments_lexer": "ipython3",
   "version": "3.7.0"
  }
 },
 "nbformat": 4,
 "nbformat_minor": 2
}
