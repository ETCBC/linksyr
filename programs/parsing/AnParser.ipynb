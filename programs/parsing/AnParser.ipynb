{
 "cells": [
  {
   "cell_type": "code",
   "execution_count": 1,
   "metadata": {},
   "outputs": [],
   "source": [
    "# import modules\n",
    "import os, anparse"
   ]
  },
  {
   "cell_type": "code",
   "execution_count": 2,
   "metadata": {},
   "outputs": [],
   "source": [
    "# head function to limit output to first 25 lines\n",
    "def head(sequence, num=25):\n",
    "    for i, line in zip(range(num), sequence):\n",
    "        yield line\n",
    "    yield '...'"
   ]
  },
  {
   "cell_type": "code",
   "execution_count": 3,
   "metadata": {},
   "outputs": [],
   "source": [
    "# Let us take the Book of the Laws of the Countries as an example.\n",
    "# To parse an an_file, we need the an_file, and some auxiliary files\n",
    "# (an alphabet, lexicon, psdef(*), and word_grammar file). If no auxiliary\n",
    "# files are provided, an 'at2ps.conf' file is looked for in the directory\n",
    "# of the an_file. In the case of the BLC, there is an at2ps.conf file present,\n",
    "# so we need not provide the auxiliary files.\n",
    "# (*) In fact, we do not need the psdef file, since we do not generate ps files,\n",
    "#     but even though it is ignored, for now the functions expect some value.\n",
    "\n",
    "an_file = 'blc/Laws.an'"
   ]
  },
  {
   "cell_type": "code",
   "execution_count": 4,
   "metadata": {},
   "outputs": [
    {
     "data": {
      "text/plain": [
       "('0,1', 'TWB', 'TWB', (<wrdgrm.Word at 0x7f94bc0c3278>,))"
      ]
     },
     "execution_count": 4,
     "metadata": {},
     "output_type": "execute_result"
    }
   ],
   "source": [
    "# the function parse_anfile() returns tuples with all analyzed data as a wrdgrm.Word object\n",
    "\n",
    "laws = anparse.parse_anfile(an_file)\n",
    "\n",
    "next(laws)"
   ]
  },
  {
   "cell_type": "code",
   "execution_count": 5,
   "metadata": {},
   "outputs": [
    {
     "name": "stdout",
     "output_type": "stream",
     "text": [
      "0,1\tTWB\tTWB\n",
      "    TWB\n",
      "\tmorphemes: (('lex', 'TWB'),)\n",
      "\tfunctions: (('nu', False), ('gn', False), ('st', False), ('vt', False), ('vs', False), ('ps', False), ('sp', 'advb'))\n",
      "\tlex      : ('11299', (('sp', 'advb'), ('gl', 'again, back')))\n",
      "0,1\tKTB>\tKTB=/~>\n",
      "    KTB=/~>\n",
      "\tmorphemes: (('lex', 'KTB='), ('nme', ''), ('emf', '>'))\n",
      "\tfunctions: (('vt', False), ('vs', False), ('ps', False), ('sp', 'subs'), ('nu', None), ('gn', 'm'), ('st', 'emph'))\n",
      "\tlex      : ('8929', (('sp', 'subs'), ('gn', 'm'), ('gl', 'writing, book')))\n",
      "0,1\tDNM\"WS>\tD-NMWS/(J~>\n",
      "    D\n",
      "\tmorphemes: (('lex', 'D'),)\n",
      "\tfunctions: (('nu', False), ('gn', False), ('st', False), ('vt', False), ('vs', False), ('ps', False), ('sp', 'prep'), ('ls', 'pcon'))\n",
      "\tlex      : ('7789', (('sp', 'prep'), ('ls', 'pcon'), ('gl', '(relative)')))\n",
      "    NMWS/(J~>\n",
      "\tmorphemes: (('lex', 'NMWS'), ('nme', 'J'), ('emf', '>'))\n",
      "\tfunctions: (('vt', False), ('vs', False), ('ps', False), ('sp', 'subs'), ('nu', 'pl'), ('gn', 'm'), ('st', 'emph'))\n",
      "\tlex      : ('2063', (('sp', 'subs'), ('gn', 'm'), ('gl', 'nome, prefecture, law, custom, usage')))\n",
      "0,1\tD>TR\"WT>\tD->TR/&WT=~>\n",
      "    D\n",
      "\tmorphemes: (('lex', 'D'),)\n",
      "\tfunctions: (('nu', False), ('gn', False), ('st', False), ('vt', False), ('vs', False), ('ps', False), ('sp', 'prep'), ('ls', 'pcon'))\n",
      "\tlex      : ('7789', (('sp', 'prep'), ('ls', 'pcon'), ('gl', '(relative)')))\n",
      "    >TR/&WT=~>\n",
      "...\n"
     ]
    }
   ],
   "source": [
    "# the function print_anfile() adds some labels\n",
    "\n",
    "prnt = anparse.print_anfile(an_file)\n",
    "\n",
    "for line in head(prnt):\n",
    "    print(line)"
   ]
  },
  {
   "cell_type": "code",
   "execution_count": 6,
   "metadata": {},
   "outputs": [
    {
     "name": "stdout",
     "output_type": "stream",
     "text": [
      "BLC 0,1\tTWB\tTWB\tTWB\t\tsp=advb\n",
      "BLC 0,1\tKTB=/~>\tKTB>\tKTB=\tnme=\"\",emf=\">\"\tsp=subs,+nu,gn=m,st=emph\n",
      "BLC 0,1\tD\tD\tD\t\tsp=prep,ls=pcon\n",
      "BLC 0,1\tNMWS/(J~>\tNMWS>\tNMWS\tnme=\"J\",emf=\">\"\tsp=subs,nu=pl,gn=m,st=emph\n",
      "BLC 0,1\tD\tD\tD\t\tsp=prep,ls=pcon\n",
      "BLC 0,1\t>TR/&WT=~>\t>TRWT>\t>TR\tnme=\"T=\",emf=\">\"\tsp=subs,nu=pl,gn=m,st=emph\n",
      "BLC 1,1\tMN\tMN\tMN\t\tsp=prep\n",
      "BLC 1,1\tQDM\tQDM\tQDM\t\tsp=prep\n",
      "BLC 1,1\tJWM/T=~>\tJWMT>\tJWM\tnme=\"T=\",emf=\">\"\tsp=subs,nu=pl,gn=m,st=emph\n",
      "BLC 1,1\t<L=[/JN\t<LJN\t<L=\tvbe=\"\",nme=\"JN\"\tsp=verb,nu=pl,gn=m,st=abs,vo=act,vs=pe,vt=ptc\n",
      "...\n"
     ]
    }
   ],
   "source": [
    "# the function dump_anfile mimics the output of ETCBC .dmp files\n",
    "# (but the annotations do not appear in the same order,\n",
    "# so the output cannot be compared with diff or similar)\n",
    "\n",
    "dmp = anparse.dump_anfile('BLC', an_file)\n",
    "\n",
    "for line in head(dmp, 10):\n",
    "# for line in dmp: # no errors\n",
    "    print(line)"
   ]
  },
  {
   "cell_type": "code",
   "execution_count": 7,
   "metadata": {},
   "outputs": [
    {
     "name": "stdout",
     "output_type": "stream",
     "text": [
      "ApBarA 78,0\tTWB\tTWB\tTWB\t\tsp=advb\n",
      "ApBarA 78,0\t>GR(>/T~>\t>GRT>\t>GR>\tnme=\"T\",emf=\">\"\tsp=subs,nu=sg,gn=f,st=emph\n",
      "ApBarA 78,0\tQDMJ/T~>\tQDMJT>\tQDMJ\tnme=\"T\",emf=\">\"\tsp=adjv,nu=sg,gn=f,st=emph\n",
      "ApBarA 78,0\tD\tD\tD\t\tsp=prep,ls=pcon\n",
      "ApBarA 78,0\tBRWK=/\tBRWK\tBRWK=\tnme=\"\"\tsp=subs,+nu,+gn,st=abs,ls=prop\n",
      "ApBarA 78,0\tSPR=/~>\tSPR>\tSPR=\tnme=\"\",emf=\">\"\tsp=subs,+nu,gn=m,st=emph\n",
      "ApBarA 78,0\tD\tD\tD\t\tsp=prep,ls=pcon\n",
      "ApBarA 78,0\tCDR[:d\tCDR\tCDR\tvbe=\"\",vpm=d\tnu=sg,gn=m,sp=verb,vo=act,vs=pe,vt=pf,ps=third\n",
      "ApBarA 78,0\tMN\tMN\tMN\t\tsp=prep\n",
      "ApBarA 78,0\tGW/\tGW\tGW\tnme=\"\"\tsp=subs,+nu,gn=m,+st,ls=ppre\n",
      "...\n"
     ]
    }
   ],
   "source": [
    "# Now check other an_files\n",
    "\n",
    "an_file = 'turgama/ApBar/P_EpBarA.an'\n",
    "dmp = anparse.dump_anfile('ApBarA', an_file)\n",
    "\n",
    "for line in head(dmp, 10):\n",
    "# for line in dmp: # no errors\n",
    "    print(line)"
   ]
  },
  {
   "cell_type": "code",
   "execution_count": 8,
   "metadata": {},
   "outputs": [
    {
     "name": "stdout",
     "output_type": "stream",
     "text": [
      "ApBarB 78,0\t>GR(>/T~>\t>GRT>\t>GR>\tnme=\"T\",emf=\">\"\tsp=subs,nu=sg,gn=f,st=emph\n",
      "ApBarB 78,0\tD\tD\tD\t\tsp=prep,ls=pcon\n",
      "ApBarB 78,0\tBRWK=/\tBRWK\tBRWK=\tnme=\"\"\tsp=subs,+nu,+gn,st=abs,ls=prop\n",
      "ApBarB 78,0\tBR/\tBR\tBR\tnme=\"\"\tsp=subs,+nu,gn=m,+st\n",
      "ApBarB 78,0\tNRJ>/\tNRJ>\tNRJ>\tnme=\"\"\tsp=subs,+nu,+gn,st=abs,ls=prop\n",
      "ApBarB 78,0\tD\tD\tD\t\tsp=prep,ls=pcon\n",
      "ApBarB 78,0\tKTB[\tKTB\tKTB\tvbe=\"\"\tnu=sg,gn=m,sp=verb,vo=act,vs=pe,vt=pf,ps=third\n",
      "ApBarB 78,0\tL\tL\tL\t\tsp=prep\n",
      "ApBarB 78,0\tTC</>\tTC<>\tTC<\tnme=\">\"\tsp=subs,nu=sg,gn=f,st=abs,ls=card\n",
      "ApBarB 78,0\tCBV/JN\tCBVJN\tCBV\tnme=\"JN\"\tsp=subs,nu=pl,gn=m,st=abs\n",
      "...\n"
     ]
    }
   ],
   "source": [
    "an_file = 'turgama/ApBar/P_EpBarB.an'\n",
    "dmp = anparse.dump_anfile('ApBarB', an_file)\n",
    "\n",
    "for line in head(dmp, 10):\n",
    "# for line in dmp: # no errors\n",
    "    print(line)"
   ]
  },
  {
   "cell_type": "code",
   "execution_count": 9,
   "metadata": {},
   "outputs": [
    {
     "name": "stdout",
     "output_type": "stream",
     "text": [
      "Judices 1,1\tW\tW\tW\t\tsp=conj\n",
      "Judices 1,1\tHW(J&>[\tHW>\tHWJ\tvbe=\"\"\tnu=sg,gn=m,sp=verb,vo=act,vs=pe,vt=pf,ps=third,ls=vbex\n",
      "Judices 1,1\tMN\tMN\tMN\t\tsp=prep\n",
      "Judices 1,1\tBTR\tBTR\tBTR\t\tsp=prep\n",
      "Judices 1,1\tD\tD\tD\t\tsp=prep,ls=pcon\n",
      "Judices 1,1\tM(W&JT[\tMJT\tMWT\tvbe=\"\"\tnu=sg,gn=m,sp=verb,vo=act,vs=pe,vt=pf,ps=third\n",
      "Judices 1,1\tJCW</\tJCW<\tJCW<\tnme=\"\"\tsp=subs,+nu,gn=m,st=abs,ls=prop\n",
      "Judices 1,1\tBR/\tBR\tBR\tnme=\"\"\tsp=subs,+nu,gn=m,+st\n",
      "Judices 1,1\tNWN=/\tNWN\tNWN=\tnme=\"\"\tsp=subs,+nu,gn=m,st=abs,ls=prop\n",
      "Judices 1,1\t<BD=/\t<BD\t<BD=\tnme=\"\"\tsp=subs,+nu,gn=m,+st\n",
      "...\n"
     ]
    }
   ],
   "source": [
    "an_file = 'turgama/Judges_Syr/P_Judices.an'\n",
    "dmp = anparse.dump_anfile('Judices', an_file)\n",
    "\n",
    "for line in head(dmp, 10):\n",
    "# for line in dmp: # no errors\n",
    "    print(line)"
   ]
  },
  {
   "cell_type": "code",
   "execution_count": 10,
   "metadata": {},
   "outputs": [
    {
     "name": "stdout",
     "output_type": "stream",
     "text": [
      "OrManA 1,0\tYLW/T~>\tYLWT>\tYLW\tnme=\"T\",emf=\">\"\tsp=subs,nu=sg,gn=f,st=emph\n",
      "OrManA 1,0\tD\tD\tD\t\tsp=prep,ls=pcon\n",
      "OrManA 1,0\tMNC>/\tMNC>\tMNC>\tnme=\"\"\tsp=subs,+nu,gn=m,st=abs,ls=prop\n",
      "OrManA 1,1\tMRJ>/\tMRJ>\tMRJ>\tnme=\"\"\tsp=subs,+nu,+gn,st=abs,ls=prop\n",
      "OrManA 1,1\t>LH/~>\t>LH>\t>LH\tnme=\"\",emf=\">\"\tsp=subs,+nu,gn=m,st=emph\n",
      "OrManA 1,1\tD\tD\tD\t\tsp=prep,ls=pcon\n",
      "OrManA 1,1\t>B/&HJ\t>BHJ\t>B\tnme=\"J\"\tsp=subs,nu=pl,gn=m,st=cst\n",
      "OrManA 1,1\tN\tN\tN\t\tnu=pl,ps=first,sp=pron,ls=pers\n",
      "OrManA 1,1\t>LH/\t>LH\t>LH\tnme=\"\"\tsp=subs,+nu,gn=m,+st\n",
      "OrManA 1,1\tH\tH\tH\t\tnu=sg,gn=m,ps=third,sp=pron,ls=pers\n",
      "...\n"
     ]
    }
   ],
   "source": [
    "# Unfortunately, the directory containing the Prayer of Manasse\n",
    "# (originally from /home/eep/synheb/Turgama/)\n",
    "# though containing a file 'at2ps.conf', does not contain the\n",
    "# syrlex, syrpsd and syrwgr files mentioned in the conf file.\n",
    "# So we have to provide other files for those,\n",
    "# and need to check if they are correct.\n",
    "# The file path to the an_file is relative to the data directory,\n",
    "# the file paths for other files are relative to the directory\n",
    "# containing the an_file.\n",
    "# Auxiliary files for now taken from 'turgama/Judges_Syr'.\n",
    "\n",
    "an_file = 'turgama/OrMan/P_OrManA.an'\n",
    "conf_file = '../Judges_Syr/at2ps.conf'\n",
    "\n",
    "dmp = anparse.dump_anfile('OrManA', an_file, conf_file)\n",
    "\n",
    "for line in head(dmp, 10):\n",
    "# for line in dmp: # no errors\n",
    "    print(line)"
   ]
  },
  {
   "cell_type": "code",
   "execution_count": 11,
   "metadata": {},
   "outputs": [
    {
     "name": "stdout",
     "output_type": "stream",
     "text": [
      "OrManB 1,0\tYLW/T~>\tYLWT>\tYLW\tnme=\"T\",emf=\">\"\tsp=subs,nu=sg,gn=f,st=emph\n",
      "OrManB 1,0\tD\tD\tD\t\tsp=prep,ls=pcon\n",
      "OrManB 1,0\tMNC>/\tMNC>\tMNC>\tnme=\"\"\tsp=subs,+nu,gn=m,st=abs,ls=prop\n",
      "OrManB 1,0\tMLK/~>\tMLK>\tMLK\tnme=\"\",emf=\">\"\tsp=subs,+nu,gn=m,st=emph\n",
      "OrManB 1,0\tD\tD\tD\t\tsp=prep,ls=pcon\n",
      "OrManB 1,0\tBN/J\tBNJ\tBN\tnme=\"J\"\tsp=subs,nu=pl,gn=m,st=cst\n",
      "OrManB 1,0\t>JSR&>JL/\t>JSR>JL\t>JSRJL\tnme=\"\"\tsp=subs,+nu,+gn,st=abs,ls=prop\n",
      "OrManB 1,0\tKD\tKD\tKD\t\tsp=conj\n",
      "OrManB 1,0\t@>(T&C@(C&TBJ==[\t>CTBJ\tCBJ==\tpfx=\">T\",vbe=\"\"\tnu=sg,gn=m,sp=verb,vo=pas,vs=pe,vt=pf,ps=third\n",
      "OrManB 1,0\tL\tL\tL\t\tsp=prep\n",
      "...\n"
     ]
    }
   ],
   "source": [
    "# for auxiliary files see above\n",
    "\n",
    "an_file = 'turgama/OrMan/P_OrManB.an'\n",
    "dmp = anparse.dump_anfile('OrManB', an_file, conf_file)\n",
    "\n",
    "for line in head(dmp, 10):\n",
    "# for line in dmp: # no errors\n",
    "    print(line)"
   ]
  },
  {
   "cell_type": "code",
   "execution_count": 12,
   "metadata": {},
   "outputs": [
    {
     "name": "stdout",
     "output_type": "stream",
     "text": [
      "BenSira 1,0\tXKM(>/T~>\tXKMT>\tXKM>\tnme=\"T\",art=\">\"\tsp=subs,nu=sg,gn=f,st=det\n",
      "BenSira 1,0\tD\tD\tD\t\tsp=conj\n",
      "BenSira 1,0\tBR/\tBR\tBR\tnme=\"\"\tsp=subs,+nu,gn=m,+st\n",
      "BenSira 1,0\tSJR>/\tSJR>\tSJR>\tnme=\"\"\tsp=subs,+nu,+gn,+st\n",
      "BenSira 1,1\tKL/\tKL\tKL\tnme=\"\"\tsp=subs,+nu,+gn,+st\n",
      "BenSira 1,1\tXKM>/\tXKM>\tXKM>\tnme=\"\"\tsp=subs,+nu,gn=f,+st\n",
      "BenSira 1,1\tMN\tMN\tMN\t\tsp=prep\n",
      "BenSira 1,1\tQDM\tQDM\tQDM\t\tsp=prep\n",
      "BenSira 1,1\tMRJ>/\tMRJ>\tMRJ>\tnme=\"\"\tsp=nmpr,+nu,+gn,st=abs\n",
      "BenSira 1,1\tHJ\tHJ\tHJ\t\tnu=sg,gn=f,ps=third,sp=prps,ls=ppde\n",
      "...\n"
     ]
    }
   ],
   "source": [
    "an_file = 'calap/BenSira.an'\n",
    "\n",
    "dmp = anparse.dump_anfile('BenSira', an_file, 'data/at2ps.conf')\n",
    "# WRONG LEXICON - find right lexicon to use - '/home/const/cur/peeters/syrlex' seems to work.\n",
    "# WRONG wordgrammar\n",
    "# Tried:\n",
    "# /projects/calap/syriac/word_grammar:\n",
    "# Exception: No paradigmatic form found.\n",
    "# 22,19 MXT>                      !M!](>](NXT/>\n",
    "#    exist(pfm) && not exist(vbe) :: reject\n",
    "# /home/janet/word_grammar:\n",
    "# Exception: No paradigmatic form found.\n",
    "#  9,18 DXJL                      DX^J^L[\n",
    "#       exist (vix) && not exist (frv) && not exist (nme) :: reject\n",
    "\n",
    "for line in head(dmp, 10):\n",
    "# for line in dmp: # wordgrammar error\n",
    "    print(line)"
   ]
  },
  {
   "cell_type": "code",
   "execution_count": 13,
   "metadata": {},
   "outputs": [
    {
     "name": "stdout",
     "output_type": "stream",
     "text": [
      "Reges 1,1\tW\tW\tW\t\tsp=conj\n",
      "Reges 1,1\tMLK/~>\tMLK>\tMLK\tnme=\"\",emf=\">\"\tsp=subs,+nu,gn=m,st=emph\n",
      "Reges 1,1\tDWJD/\tDWJD\tDWJD\tnme=\"\"\tsp=subs,+nu,gn=m,st=abs,ls=prop\n",
      "Reges 1,1\tS>B[\tS>B\tS>B\tvbe=\"\"\tnu=sg,gn=m,sp=verb,vo=act,vs=pe,vt=pf,ps=third\n",
      "Reges 1,1\tW\tW\tW\t\tsp=conj\n",
      "Reges 1,1\t<L=[\t<L\t<L=\tvbe=\"\"\tnu=sg,gn=m,sp=verb,vo=act,vs=pe,vt=pf,ps=third\n",
      "Reges 1,1\tB\tB\tB\t\tsp=prep\n",
      "Reges 1,1\tCN(>/J~>\tCNJ>\tCN>\tnme=\"J\",emf=\">\"\tsp=subs,nu=pl,gn=f,st=emph\n",
      "Reges 1,1\tW\tW\tW\t\tsp=conj\n",
      "Reges 1,1\t!M!KS(>|[/JN\tMKSJN\tKS>\tpfm=\"M\",frv=\"\",vbe=\"\",nme=\"JN\"\tsp=verb,nu=pl,gn=m,st=abs,vo=act,vs=pa,vt=ptc\n",
      "...\n"
     ]
    }
   ],
   "source": [
    "an_file = 'calap/Reges.an'\n",
    "dmp = anparse.dump_anfile('Reges', an_file, 'data/at2ps.conf')\n",
    "# WRONG LEXICON - find right lexicon to use - '/home/const/cur/peeters/syrlex' seems to work.\n",
    "# WRONG wordgrammar - both /projects/calap/syriac/word_grammar and /home/janet/word_grammar seem to work\n",
    "# Which one is correct?\n",
    "\n",
    "dmp = anparse.dump_anfile('Reges', an_file, '/home/janet/word_grammar', '/home/cur/peeters/syrlex')\n",
    "\n",
    "for line in head(dmp, 10):\n",
    "# for line in dmp: # no errors!\n",
    "    print(line)"
   ]
  },
  {
   "cell_type": "code",
   "execution_count": 15,
   "metadata": {},
   "outputs": [
    {
     "name": "stdout",
     "output_type": "stream",
     "text": [
      "Ps 1,1\tVWB/(J\tVWB\tVWB\tnme=\"J\"\tsp=subs,nu=pl,gn=m,st=cst\n",
      "Ps 1,1\t&WHJ==\tWHJ\tHJ==\t\tnu=sg,gn=m,ps=third,sp=pron,ls=pers\n",
      "Ps 1,1\tL\tL\tL\t\tsp=prep\n",
      "Ps 1,1\tGBR/~>\tGBR>\tGBR\tnme=\"\",emf=\">\"\tsp=subs,+nu,gn=m,st=emph\n",
      "Ps 1,1\tD\tD\tD\t\tsp=prep,ls=pcon\n",
      "Ps 1,1\tB\tB\tB\t\tsp=prep\n",
      "Ps 1,1\t>WRX/~>\t>WRX>\t>WRX\tnme=\"\",emf=\">\"\tsp=subs,+nu,gn=f,st=emph\n",
      "Ps 1,1\tD\tD\tD\t\tsp=prep,ls=pcon\n",
      "Ps 1,1\t<WL/(J~>\t<WL>\t<WL\tnme=\"J\",emf=\">\"\tsp=adjv,nu=pl,gn=m,st=emph\n",
      "Ps 1,1\tL>\tL>\tL>\t\tsp=nega\n",
      "...\n"
     ]
    }
   ],
   "source": [
    "an_file = 'calap/P_Psalmi/P_Psalmi.an'\n",
    "dmp = anparse.dump_anfile('Ps', an_file)\n",
    "\n",
    "aux_files=(\n",
    "    'syrwgr',\n",
    "    '/home/cur/peeters/syrlex', # most complete lexicon, but also best?\n",
    ")\n",
    "\n",
    "dmp = anparse.dump_anfile('Ps', an_file, *aux_files)\n",
    "\n",
    "for line in head(dmp, 10):\n",
    "# for line in dmp: # lexicon error in Ps 31,2: KeyError: '>BHT'\n",
    "    print(line)"
   ]
  },
  {
   "cell_type": "code",
   "execution_count": 19,
   "metadata": {},
   "outputs": [
    {
     "name": "stdout",
     "output_type": "stream",
     "text": [
      "PrRef 1,1\tTWB\tTWB\tTWB\t\tsp=advb\n",
      "PrRef 1,1\tM>MR/~>\tM>MR>\tM>MR\tnme=\"\",emf=\">\"\tsp=subs,+nu,gn=m,st=emph\n",
      "PrRef 1,1\tD\tD\tD\t\tsp=prep,ls=pcon\n",
      "PrRef 1,1\tLWQBL\tLWQBL\tLWQBL\t\tsp=prep\n",
      "PrRef 1,1\tMNJ==/\tMNJ\tMNJ==\tnme=\"\"\tsp=subs,+nu,gn=m,st=abs,ls=prop\n",
      "PrRef 1,1\t!N!@(>(T&C@(C&T>L[\tNCT>L\tC>L\tpfm=\"N\",pfx=\">T\",vbe=\"\"\tnu=sg,gn=m,sp=verb,vo=pas,vs=pe,vt=ipf,ps=third\n",
      "PrRef 1,1\tMNJ==/\tMNJ\tMNJ==\tnme=\"\"\tsp=subs,+nu,gn=m,st=abs,ls=prop\n",
      "PrRef 1,1\t<L\t<L\t<L\t\tsp=prep,ls=pcon\n",
      "PrRef 1,1\tHW\tHW\tHW\t\tnu=sg,gn=m,ps=third,sp=pron,ls=pers\n",
      "PrRef 1,1\t>RKWNV/~>\t>RKWNV>\t>RKWNV\tnme=\"\",emf=\">\"\tsp=subs,+nu,+gn,st=emph\n",
      "...\n"
     ]
    }
   ],
   "source": [
    "an_file = 'efrem/eprx/eprx.an'\n",
    "dmp = anparse.dump_anfile('PrRef', an_file)\n",
    "\n",
    "for line in head(dmp, 10):\n",
    "# for line in dmp: # lexicon error in 4,21: word BY not in lexicon, it is in eprx4.gloss though\n",
    "    print(line)"
   ]
  }
 ],
 "metadata": {
  "kernelspec": {
   "display_name": "Python 3",
   "language": "python",
   "name": "python3"
  },
  "language_info": {
   "codemirror_mode": {
    "name": "ipython",
    "version": 3
   },
   "file_extension": ".py",
   "mimetype": "text/x-python",
   "name": "python",
   "nbconvert_exporter": "python",
   "pygments_lexer": "ipython3",
   "version": "3.6.3"
  }
 },
 "nbformat": 4,
 "nbformat_minor": 2
}
