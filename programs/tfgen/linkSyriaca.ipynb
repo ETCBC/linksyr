{
 "cells": [
  {
   "cell_type": "markdown",
   "metadata": {
    "ExecuteTime": {
     "end_time": "2018-03-12T06:46:26.483483Z",
     "start_time": "2018-03-12T06:46:26.473203Z"
    },
    "slideshow": {
     "slide_type": "slide"
    }
   },
   "source": [
    "<p>\n",
    "<img align=\"left\" width=\"200\" src=\"images/peshitta_small.png\"/>\n",
    "<img align=\"right\" width=\"200\" src=\"images/tf-small.png\"/>\n",
    "</p>\n",
    "\n",
    "# LinkSyr workshop\n",
    "\n",
    "## Amsterdam 2018-03-12\n",
    "\n",
    "### Dirk Roorda\n",
    "\n",
    "#### dirk.roorda@dans.knaw.nl\n",
    "\n",
    "<p>\n",
    "<img align=\"left\" width=\"200\" src=\"images/etcbc.png\"/>\n",
    "<img align=\"right\" width=\"200\" src=\"images/dans.png\"/>\n",
    "</p>"
   ]
  },
  {
   "cell_type": "markdown",
   "metadata": {},
   "source": [
    "![easy](images/easy.png)"
   ]
  },
  {
   "cell_type": "markdown",
   "metadata": {
    "slideshow": {
     "slide_type": "slide"
    }
   },
   "source": [
    "# Link Syriaca data\n",
    "\n",
    "This notebook links Syriaca data to the Syriac New Testament.\n",
    "\n",
    "We add the links as features to the\n",
    "[Text-Fabric](https://github.com/Dans-labs/text-fabric) \n",
    "representation of SyrNT."
   ]
  },
  {
   "cell_type": "code",
   "execution_count": null,
   "metadata": {
    "ExecuteTime": {
     "end_time": "2018-03-12T07:18:05.885153Z",
     "start_time": "2018-03-12T07:18:05.869836Z"
    },
    "slideshow": {
     "slide_type": "slide"
    }
   },
   "outputs": [],
   "source": [
    "import sys, os, collections\n",
    "from IPython.display import display, Markdown, HTML\n",
    "from tf.fabric import Fabric"
   ]
  },
  {
   "cell_type": "code",
   "execution_count": null,
   "metadata": {
    "ExecuteTime": {
     "end_time": "2018-03-12T07:18:06.978883Z",
     "start_time": "2018-03-12T07:18:06.971166Z"
    },
    "slideshow": {
     "slide_type": "fragment"
    }
   },
   "outputs": [],
   "source": [
    "REPO = '~/github/etcbc/linksyr'\n",
    "SOURCE = 'syrnt'\n",
    "CORPUS = f'{REPO}/data/tf/{SOURCE}'"
   ]
  },
  {
   "cell_type": "code",
   "execution_count": null,
   "metadata": {
    "ExecuteTime": {
     "end_time": "2018-03-12T07:18:08.067467Z",
     "start_time": "2018-03-12T07:18:08.053317Z"
    },
    "slideshow": {
     "slide_type": "fragment"
    }
   },
   "outputs": [],
   "source": [
    "TF = Fabric(locations=[CORPUS], modules=[''], silent=False )"
   ]
  },
  {
   "cell_type": "markdown",
   "metadata": {
    "slideshow": {
     "slide_type": "slide"
    }
   },
   "source": [
    "# Load Features\n",
    "We load all available features of the SyrNT data."
   ]
  },
  {
   "cell_type": "code",
   "execution_count": null,
   "metadata": {
    "ExecuteTime": {
     "end_time": "2018-03-12T07:19:39.973542Z",
     "start_time": "2018-03-12T07:19:39.120421Z"
    },
    "slideshow": {
     "slide_type": "fragment"
    }
   },
   "outputs": [],
   "source": [
    "api = TF.load('', silent=True)\n",
    "allFeatures = TF.explore(silent=True, show=True)\n",
    "loadableFeatures = allFeatures['nodes'] + allFeatures['edges']\n",
    "TF.load(loadableFeatures, add=True, silent=True)\n",
    "api.makeAvailableIn(globals())"
   ]
  },
  {
   "cell_type": "code",
   "execution_count": null,
   "metadata": {
    "ExecuteTime": {
     "end_time": "2018-03-12T07:22:18.671893Z",
     "start_time": "2018-03-12T07:22:18.661321Z"
    },
    "slideshow": {
     "slide_type": "fragment"
    }
   },
   "outputs": [],
   "source": [
    "print('\\n'.join(allFeatures['nodes']))"
   ]
  },
  {
   "cell_type": "markdown",
   "metadata": {
    "slideshow": {
     "slide_type": "slide"
    }
   },
   "source": [
    "## Syriaca data\n",
    "\n",
    "We load the index of people and places."
   ]
  },
  {
   "cell_type": "code",
   "execution_count": null,
   "metadata": {
    "ExecuteTime": {
     "end_time": "2018-03-12T07:18:39.202840Z",
     "start_time": "2018-03-12T07:18:39.183317Z"
    },
    "slideshow": {
     "slide_type": "fragment"
    }
   },
   "outputs": [],
   "source": [
    "SYRIACA = os.path.expanduser(f'{REPO}/data/syriaca')\n",
    "SC_PEOPLE = f'{SYRIACA}/index_of_persons.csv'\n",
    "SC_PLACES = f'{SYRIACA}/index_of_places.csv'\n",
    "\n",
    "SC_URL = 'http://syriaca.org'\n",
    "SC_PLACE = 'place'\n",
    "SC_PERSON = 'person'\n",
    "\n",
    "SC_CONFIG = (\n",
    "    (SC_PERSON, SC_URL, SC_PEOPLE),\n",
    "    (SC_PLACE, SC_URL, SC_PLACES),    \n",
    ")\n",
    "\n",
    "SC_TYPES = tuple(x[0] for x in SC_CONFIG)\n",
    "\n",
    "SC_FIELDS = ('trans', 'syriac', 'id')\n",
    "\n",
    "NA_SYRIAC = {\n",
    "    '[Syriac Not Available]', \n",
    "    '[Syriac Not', \n",
    "    '[Syriac',\n",
    "}"
   ]
  },
  {
   "cell_type": "code",
   "execution_count": null,
   "metadata": {
    "ExecuteTime": {
     "end_time": "2018-03-12T07:04:08.032516Z",
     "start_time": "2018-03-12T07:04:07.953707Z"
    },
    "slideshow": {
     "slide_type": "slide"
    }
   },
   "outputs": [],
   "source": [
    "tables = {}\n",
    "irregular = {}\n",
    "\n",
    "(transF, syriacF, idF) = SC_FIELDS\n",
    "\n",
    "for (dataType, baseUrl, dataFile) in SC_CONFIG:\n",
    "    tables[dataType] = {field: {} for field in SC_FIELDS}\n",
    "    irregular[dataType] = set()\n",
    "    dest = tables[dataType]\n",
    "    irreg = irregular[dataType]\n",
    "    table = dest[idF]\n",
    "    indexTrans = dest[transF]\n",
    "    indexSyriac = dest[syriacF]\n",
    "    with open(dataFile) as fh:\n",
    "        for (i, line) in enumerate(fh):\n",
    "            (transV, syriacV, idV) = line.rstrip('\\n').split('\\t')\n",
    "            prefix = f'{baseUrl}/{dataType}/'\n",
    "            if idV.startswith(prefix):\n",
    "                idV = idV.replace(prefix, '', 1)\n",
    "            else:\n",
    "                irreg.add(idV)\n",
    "            table[idV] = (transV, syriacV)\n",
    "            indexTrans.setdefault(transV, set()).add(idV)\n",
    "            if syriacV not in NA_SYRIAC:\n",
    "                if '[' in syriacV:\n",
    "                    print(f'WARNING {dataType} line {i+1}: syriac value \"{syriacV}\"')\n",
    "                indexSyriac.setdefault(syriacV, set()).add(idV)"
   ]
  },
  {
   "cell_type": "code",
   "execution_count": null,
   "metadata": {
    "ExecuteTime": {
     "end_time": "2018-03-12T07:04:15.210854Z",
     "start_time": "2018-03-12T07:04:15.201665Z"
    },
    "slideshow": {
     "slide_type": "slide"
    }
   },
   "outputs": [],
   "source": [
    "for (dataType, data) in tables.items():\n",
    "    table = data[idF]\n",
    "    irreg = irregular[dataType]\n",
    "    print(f'''\n",
    "{dataType:>12}s: {len(table):>5} (irregular: {len(irreg):>4})\n",
    "{\"by syriac\":>12} : {len(data[syriacF]):>5}\n",
    "{\"by trans\":>12} : {len(data[transF]):>5}\n",
    "''')"
   ]
  },
  {
   "cell_type": "markdown",
   "metadata": {
    "slideshow": {
     "slide_type": "slide"
    }
   },
   "source": [
    "## Link to SyrNT\n",
    "\n",
    "We can only hope to find connections based on the Syriac.\n",
    "Let's see if there are words in the SyrNT text that show up in the persons and places lists.\n",
    "\n",
    "We work with lexemes."
   ]
  },
  {
   "cell_type": "code",
   "execution_count": null,
   "metadata": {
    "ExecuteTime": {
     "end_time": "2018-03-12T07:05:04.527986Z",
     "start_time": "2018-03-12T07:05:04.512544Z"
    },
    "slideshow": {
     "slide_type": "slide"
    }
   },
   "outputs": [],
   "source": [
    "hits = {dataType: {} for dataType in SC_TYPES}\n",
    "\n",
    "for lx in F.otype.s('lexeme'):\n",
    "    lex = F.lexeme.v(lx)\n",
    "    for dataType in SC_TYPES:\n",
    "        idV = tables[dataType][syriacF].get(lex, None)\n",
    "        if idV is not None:\n",
    "            hits[dataType][lx] = idV"
   ]
  },
  {
   "cell_type": "code",
   "execution_count": null,
   "metadata": {
    "ExecuteTime": {
     "end_time": "2018-03-09T17:53:31.125240Z",
     "start_time": "2018-03-09T17:53:31.119629Z"
    },
    "slideshow": {
     "slide_type": "fragment"
    }
   },
   "outputs": [],
   "source": [
    "for (dataType, theseHits) in hits.items():\n",
    "    print(f'{dataType:>12}s: {len(theseHits):>5} hits')"
   ]
  },
  {
   "cell_type": "markdown",
   "metadata": {
    "slideshow": {
     "slide_type": "slide"
    }
   },
   "source": [
    "We show the hits by picking the first occurrence of each lexeme and showing it in context."
   ]
  },
  {
   "cell_type": "code",
   "execution_count": null,
   "metadata": {
    "ExecuteTime": {
     "end_time": "2018-03-12T07:05:17.542260Z",
     "start_time": "2018-03-12T07:05:17.500814Z"
    },
    "scrolled": false,
    "slideshow": {
     "slide_type": "fragment"
    }
   },
   "outputs": [],
   "source": [
    "for (dataType, theseHits) in hits.items():\n",
    "    markdown = f'''### {dataType}s\n",
    "lexeme | linked | n-occs | passage | verse text\n",
    "--- | --- | --- | --- | ---\n",
    "'''\n",
    "    for (lx, linked) in sorted(\n",
    "        theseHits.items(),\n",
    "        key=lambda x: F.lexeme.v(x[0]),\n",
    "    ):\n",
    "        lex = F.lexeme.v(lx)\n",
    "        ids = ' '.join(sorted(linked))\n",
    "        occs = L.d(lx, otype='word')\n",
    "        passage = '{} {}:{}'.format(*T.sectionFromNode(occs[0]))\n",
    "        verse = L.u(occs[0], otype='verse')[0]\n",
    "        text = T.text(L.d(verse, otype='word'))\n",
    "        markdown += (\n",
    "            f'<span class=\"syc\">{lex}</span> | {ids} | {len(occs)} | {passage} |'\n",
    "            f' <span class=\"syc\">{text}</syc>\\n'\n",
    "        )\n",
    "    display(Markdown(markdown))"
   ]
  },
  {
   "cell_type": "code",
   "execution_count": null,
   "metadata": {
    "ExecuteTime": {
     "end_time": "2018-03-12T07:25:01.397387Z",
     "start_time": "2018-03-12T07:25:01.391004Z"
    },
    "slideshow": {
     "slide_type": "slide"
    }
   },
   "outputs": [],
   "source": [
    "HTML('''\n",
    "<style>\n",
    ".syc {\n",
    "    font-family: Estrangelo Edessa;\n",
    "    font-size: 14pt;\n",
    "}\n",
    "</style>\n",
    "''')"
   ]
  },
  {
   "cell_type": "markdown",
   "metadata": {},
   "source": [
    "We want to disambiguate the entity references.\n",
    "First we need to see all possible references per name, in order to weed out the ones that\n",
    "are definitely not applicable.\n",
    "\n",
    "We generate a list and display it here. We also generate the list as csv file."
   ]
  },
  {
   "cell_type": "code",
   "execution_count": null,
   "metadata": {},
   "outputs": [],
   "source": [
    "syriacaResolve = os.path.expanduser(f'{REPO}/data/user/syriacaSyrNT.csv')"
   ]
  },
  {
   "cell_type": "code",
   "execution_count": null,
   "metadata": {},
   "outputs": [],
   "source": [
    "fieldNames = ('lexeme', 'trans', 'url', 'applicable')\n",
    "\n",
    "fh = open(syriacaResolve, 'w')\n",
    "for (dataType, theseHits) in hits.items():\n",
    "    tsv = '\\t'.join(fieldNames) + '\\n'\n",
    "    markdown = f'''### {dataType}s\n",
    "{\" | \".join(fieldNames)}\n",
    "--- | --- | --- | ---\n",
    "'''\n",
    "    table = tables[dataType]\n",
    "    data = table[idF]\n",
    "    for (lx, linked) in sorted(\n",
    "        theseHits.items(),\n",
    "        key=lambda x: F.lexeme.v(x[0]),\n",
    "    ):\n",
    "        lex = F.lexeme.v(lx)\n",
    "        for lid in linked:\n",
    "            trans = data[lid][0]\n",
    "            url = f'{SC_URL}/{dataType}/{lid}'                \n",
    "            markdown += (\n",
    "                f'<span class=\"syc\">{lex}</span> | {trans} | {url} | no\\n'\n",
    "            )\n",
    "            tsv += f'{lex}\\t{trans}\\t{url}\\tno\\n'\n",
    "\n",
    "    fh.write(tsv)\n",
    "    display(Markdown(markdown))\n",
    "fh.close()"
   ]
  },
  {
   "cell_type": "markdown",
   "metadata": {
    "slideshow": {
     "slide_type": "slide"
    }
   },
   "source": [
    "# Thanks\n",
    "\n",
    "## Dirk Roorda\n",
    "\n",
    "### dirk.roorda@dans.knaw.nl\n",
    "\n",
    "<img align=\"right\" width=\"400\" src=\"images/dans.png\"/>"
   ]
  },
  {
   "cell_type": "code",
   "execution_count": null,
   "metadata": {},
   "outputs": [],
   "source": []
  }
 ],
 "metadata": {
  "celltoolbar": "Slideshow",
  "kernelspec": {
   "display_name": "Python 3",
   "language": "python",
   "name": "python3"
  },
  "language_info": {
   "codemirror_mode": {
    "name": "ipython",
    "version": 3
   },
   "file_extension": ".py",
   "mimetype": "text/x-python",
   "name": "python",
   "nbconvert_exporter": "python",
   "pygments_lexer": "ipython3",
   "version": "3.6.4"
  },
  "livereveal": {
   "scroll": true,
   "start_slideshow_at": "selected"
  },
  "toc": {
   "nav_menu": {},
   "number_sections": false,
   "sideBar": true,
   "skip_h1_title": true,
   "toc_cell": false,
   "toc_position": {},
   "toc_section_display": "block",
   "toc_window_display": false
  }
 },
 "nbformat": 4,
 "nbformat_minor": 2
}
