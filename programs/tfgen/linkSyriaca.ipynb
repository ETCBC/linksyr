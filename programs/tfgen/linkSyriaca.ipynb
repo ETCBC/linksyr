{
 "cells": [
  {
   "cell_type": "markdown",
   "metadata": {},
   "source": [
    "<img align=\"right\" src=\"images/etcbc.png\"/>\n",
    "<img align=\"right\" src=\"images/peshitta_small.png\"/>\n",
    "<img align=\"right\" src=\"images/tf-small.png\"/>\n",
    "\n",
    "\n",
    "# Link Syriaca data\n",
    "\n",
    "This notebook links Syriaca data to the Syriac New Testament.\n",
    "\n",
    "We add the links as features to the\n",
    "[Text-Fabric](https://github.com/Dans-labs/text-fabric) \n",
    "representation of SyrNT."
   ]
  },
  {
   "cell_type": "code",
   "execution_count": 39,
   "metadata": {
    "ExecuteTime": {
     "end_time": "2018-03-09T09:20:04.506992Z",
     "start_time": "2018-03-09T09:20:04.500743Z"
    }
   },
   "outputs": [],
   "source": [
    "import sys, os, collections\n",
    "from IPython.display import display, Markdown\n",
    "from tf.fabric import Fabric"
   ]
  },
  {
   "cell_type": "code",
   "execution_count": 6,
   "metadata": {
    "ExecuteTime": {
     "end_time": "2018-03-09T08:20:02.954715Z",
     "start_time": "2018-03-09T08:20:02.950123Z"
    }
   },
   "outputs": [],
   "source": [
    "REPO = '~/github/etcbc/linksyr'\n",
    "SOURCE = 'syrnt'\n",
    "CORPUS = f'{REPO}/data/tf/{SOURCE}'"
   ]
  },
  {
   "cell_type": "code",
   "execution_count": 2,
   "metadata": {
    "ExecuteTime": {
     "end_time": "2018-03-09T08:10:48.633201Z",
     "start_time": "2018-03-09T08:10:48.617573Z"
    }
   },
   "outputs": [
    {
     "name": "stdout",
     "output_type": "stream",
     "text": [
      "This is Text-Fabric 3.2.2\n",
      "Api reference : https://github.com/Dans-labs/text-fabric/wiki/Api\n",
      "Tutorial      : https://github.com/Dans-labs/text-fabric/blob/master/docs/tutorial.ipynb\n",
      "Example data  : https://github.com/Dans-labs/text-fabric-data\n",
      "\n",
      "37 features found and 0 ignored\n"
     ]
    }
   ],
   "source": [
    "TF = Fabric(locations=[CORPUS], modules=[''], silent=False )"
   ]
  },
  {
   "cell_type": "markdown",
   "metadata": {},
   "source": [
    "# Load Features\n",
    "We load all available features of the SyrNT data."
   ]
  },
  {
   "cell_type": "code",
   "execution_count": 3,
   "metadata": {
    "ExecuteTime": {
     "end_time": "2018-03-09T08:12:32.735480Z",
     "start_time": "2018-03-09T08:12:31.396011Z"
    }
   },
   "outputs": [
    {
     "name": "stdout",
     "output_type": "stream",
     "text": [
      "  0.00s loading features ...\n",
      "   |     0.04s B aspect               from /Users/dirk/github/etcbc/linksyr/data/tf/syrnt\n",
      "   |     0.04s B demonstrative_category from /Users/dirk/github/etcbc/linksyr/data/tf/syrnt\n",
      "   |     0.02s B feminine_he_dot      from /Users/dirk/github/etcbc/linksyr/data/tf/syrnt\n",
      "   |     0.03s B gender               from /Users/dirk/github/etcbc/linksyr/data/tf/syrnt\n",
      "   |     0.04s B grammatical_category from /Users/dirk/github/etcbc/linksyr/data/tf/syrnt\n",
      "   |     0.04s B noun_type            from /Users/dirk/github/etcbc/linksyr/data/tf/syrnt\n",
      "   |     0.03s B number               from /Users/dirk/github/etcbc/linksyr/data/tf/syrnt\n",
      "   |     0.04s B numeral_type         from /Users/dirk/github/etcbc/linksyr/data/tf/syrnt\n",
      "   |     0.04s B participle_type      from /Users/dirk/github/etcbc/linksyr/data/tf/syrnt\n",
      "   |     0.03s B person               from /Users/dirk/github/etcbc/linksyr/data/tf/syrnt\n",
      "   |     0.03s B prefix               from /Users/dirk/github/etcbc/linksyr/data/tf/syrnt\n",
      "   |     0.03s B prefix_ascii         from /Users/dirk/github/etcbc/linksyr/data/tf/syrnt\n",
      "   |     0.04s B pronoun_type         from /Users/dirk/github/etcbc/linksyr/data/tf/syrnt\n",
      "   |     0.05s B root                 from /Users/dirk/github/etcbc/linksyr/data/tf/syrnt\n",
      "   |     0.04s B root_ascii           from /Users/dirk/github/etcbc/linksyr/data/tf/syrnt\n",
      "   |     0.02s B seyame               from /Users/dirk/github/etcbc/linksyr/data/tf/syrnt\n",
      "   |     0.04s B state                from /Users/dirk/github/etcbc/linksyr/data/tf/syrnt\n",
      "   |     0.06s B stem                 from /Users/dirk/github/etcbc/linksyr/data/tf/syrnt\n",
      "   |     0.04s B stem_ascii           from /Users/dirk/github/etcbc/linksyr/data/tf/syrnt\n",
      "   |     0.03s B suffix               from /Users/dirk/github/etcbc/linksyr/data/tf/syrnt\n",
      "   |     0.02s B suffix_ascii         from /Users/dirk/github/etcbc/linksyr/data/tf/syrnt\n",
      "   |     0.04s B suffix_contraction   from /Users/dirk/github/etcbc/linksyr/data/tf/syrnt\n",
      "   |     0.04s B suffix_gender        from /Users/dirk/github/etcbc/linksyr/data/tf/syrnt\n",
      "   |     0.04s B suffix_number        from /Users/dirk/github/etcbc/linksyr/data/tf/syrnt\n",
      "   |     0.03s B suffix_person        from /Users/dirk/github/etcbc/linksyr/data/tf/syrnt\n",
      "   |     0.04s B verbal_conjugation   from /Users/dirk/github/etcbc/linksyr/data/tf/syrnt\n",
      "  0.95s All additional features loaded - for details use loadLog()\n"
     ]
    }
   ],
   "source": [
    "api = TF.load('', silent=True)\n",
    "allFeatures = TF.explore(silent=True, show=True)\n",
    "loadableFeatures = allFeatures['nodes'] + allFeatures['edges']\n",
    "TF.load(loadableFeatures, add=True, silent=False)\n",
    "api.makeAvailableIn(globals())"
   ]
  },
  {
   "cell_type": "markdown",
   "metadata": {},
   "source": [
    "## Syriaca data\n",
    "\n",
    "We load the index of people and places."
   ]
  },
  {
   "cell_type": "code",
   "execution_count": 44,
   "metadata": {
    "ExecuteTime": {
     "end_time": "2018-03-09T09:31:44.852479Z",
     "start_time": "2018-03-09T09:31:44.835085Z"
    }
   },
   "outputs": [],
   "source": [
    "SYRIACA = os.path.expanduser(f'{REPO}/data/syriaca')\n",
    "SC_PEOPLE = f'{SYRIACA}/index_of_persons.csv'\n",
    "SC_PLACES = f'{SYRIACA}/index_of_places.csv'\n",
    "\n",
    "SC_URL = 'http://syriaca.org'\n",
    "SC_PLACE = 'place'\n",
    "SC_PERSON = 'person'\n",
    "\n",
    "SC_CONFIG = (\n",
    "    (SC_PERSON, SC_URL, SC_PEOPLE),\n",
    "    (SC_PLACE, SC_URL, SC_PLACES),    \n",
    ")\n",
    "\n",
    "SC_TYPES = tuple(x[0] for x in SC_CONFIG)\n",
    "\n",
    "SC_FIELDS = ('trans', 'syriac', 'id')\n",
    "\n",
    "NA_SYRIAC = {\n",
    "    '[Syriac Not Available]', \n",
    "    '[Syriac Not', \n",
    "    '[Syriac',\n",
    "}"
   ]
  },
  {
   "cell_type": "code",
   "execution_count": 53,
   "metadata": {
    "ExecuteTime": {
     "end_time": "2018-03-09T09:35:22.562702Z",
     "start_time": "2018-03-09T09:35:22.455193Z"
    }
   },
   "outputs": [],
   "source": [
    "tables = {}\n",
    "irregular = {}\n",
    "\n",
    "(transF, syriacF, idF) = SC_FIELDS\n",
    "\n",
    "for (dataType, baseUrl, dataFile) in SC_CONFIG:\n",
    "    tables[dataType] = {field: {} for field in SC_FIELDS}\n",
    "    irregular[dataType] = set()\n",
    "    dest = tables[dataType]\n",
    "    irreg = irregular[dataType]\n",
    "    table = dest[idF]\n",
    "    indexTrans = dest[transF]\n",
    "    indexSyriac = dest[syriacF]\n",
    "    with open(dataFile) as fh:\n",
    "        for (i, line) in enumerate(fh):\n",
    "            (transV, syriacV, idV) = line.rstrip('\\n').split('\\t')\n",
    "            prefix = f'{baseUrl}/{dataType}/'\n",
    "            if idV.startswith(prefix):\n",
    "                idV = idV.replace(prefix, '', 1)\n",
    "            else:\n",
    "                irreg.add(idV)\n",
    "            table[idV] = (transV, syriacV)\n",
    "            indexTrans.setdefault(transV, set()).add(idV)\n",
    "            if syriacV not in NA_SYRIAC:\n",
    "                if '[' in syriacV:\n",
    "                    print(f'WARNING {dataType} line {i+1}: syriac value \"{syriacV}\"')\n",
    "                indexSyriac.setdefault(syriacV, set()).add(idV)"
   ]
  },
  {
   "cell_type": "code",
   "execution_count": 55,
   "metadata": {
    "ExecuteTime": {
     "end_time": "2018-03-09T09:35:30.038699Z",
     "start_time": "2018-03-09T09:35:30.025870Z"
    }
   },
   "outputs": [
    {
     "name": "stdout",
     "output_type": "stream",
     "text": [
      "\n",
      "      persons:  2371 (irregular:    0)\n",
      "   by syriac :  1503\n",
      "    by trans :  1964\n",
      "\n",
      "\n",
      "       places:  2488 (irregular:    0)\n",
      "   by syriac :   527\n",
      "    by trans :  2165\n",
      "\n"
     ]
    }
   ],
   "source": [
    "for (dataType, data) in tables.items():\n",
    "    table = data[idF]\n",
    "    irreg = irregular[dataType]\n",
    "    print(f'''\n",
    "{dataType:>12}s: {len(table):>5} (irregular: {len(irreg):>4})\n",
    "{\"by syriac\":>12} : {len(data[syriacF]):>5}\n",
    "{\"by trans\":>12} : {len(data[transF]):>5}\n",
    "''')"
   ]
  },
  {
   "cell_type": "markdown",
   "metadata": {},
   "source": [
    "## Link to SyrNT\n",
    "\n",
    "We can only hope to find connections based on the Syriac.\n",
    "Let's see if there are words in the SyrNT text that show up in the persons and places lists.\n",
    "First we try the lexemes.\n",
    "Then the word occurrences."
   ]
  },
  {
   "cell_type": "code",
   "execution_count": 56,
   "metadata": {
    "ExecuteTime": {
     "end_time": "2018-03-09T09:35:31.949866Z",
     "start_time": "2018-03-09T09:35:31.931944Z"
    }
   },
   "outputs": [],
   "source": [
    "hits = {dataType: {} for dataType in SC_TYPES}\n",
    "\n",
    "for lx in F.otype.s('lexeme'):\n",
    "    lex = F.lexeme.v(lx)\n",
    "    for dataType in SC_TYPES:\n",
    "        idV = tables[dataType][syriacF].get(lex, None)\n",
    "        if idV is not None:\n",
    "            hits[dataType][lx] = idV\n",
    "    "
   ]
  },
  {
   "cell_type": "code",
   "execution_count": 57,
   "metadata": {
    "ExecuteTime": {
     "end_time": "2018-03-09T09:35:32.842320Z",
     "start_time": "2018-03-09T09:35:32.832552Z"
    }
   },
   "outputs": [
    {
     "name": "stdout",
     "output_type": "stream",
     "text": [
      "      persons:    98 hits\n",
      "       places:    37 hits\n"
     ]
    }
   ],
   "source": [
    "for (dataType, theseHits) in hits.items():\n",
    "    print(f'{dataType:>12}s: {len(theseHits):>5} hits')"
   ]
  },
  {
   "cell_type": "markdown",
   "metadata": {},
   "source": [
    "We show the hits by picking the first occurrence of each lexeme and showing it in context."
   ]
  },
  {
   "cell_type": "code",
   "execution_count": 59,
   "metadata": {
    "ExecuteTime": {
     "end_time": "2018-03-09T09:36:18.795929Z",
     "start_time": "2018-03-09T09:36:18.746424Z"
    },
    "scrolled": false
   },
   "outputs": [
    {
     "data": {
      "text/markdown": [
       "### persons\n",
       "lexeme | linked | n-occs | passage | verse text\n",
       "--- | --- | --- | --- | ---\n",
       "ܐܒܪܗܡ | 1108 1109 1110 1546 1547 1548 1549 1551 1552 1553 1554 2202 964 | 2 | Matthew 1:1 | ܟܬܒܐ ܕܝܠܝܕܘܬܗ ܕܝܫܘܥ ܡܫܝܚܐ ܒܪܗ ܕܕܘܝܕ ܒܪܗ ܕܐܒܪܗܡ \n",
       "ܐܝܣܚܩ | 1788 1789 1790 1791 1792 2578 | 3 | Matthew 1:2 | ܐܒܪܗܡ ܐܘܠܕ ܠܐܝܣܚܩ ܐܝܣܚܩ ܐܘܠܕ ܠܝܥܩܘܒ ܝܥܩܘܒ ܐܘܠܕ ܠܝܗܘܕܐ ܘܠܐܚܘܗܝ \n",
       "ܝܥܩܘܒ | 1299 1301 1302 1797 1798 1800 962 | 3 | Matthew 1:2 | ܐܒܪܗܡ ܐܘܠܕ ܠܐܝܣܚܩ ܐܝܣܚܩ ܐܘܠܕ ܠܝܥܩܘܒ ܝܥܩܘܒ ܐܘܠܕ ܠܝܗܘܕܐ ܘܠܐܚܘܗܝ \n",
       "ܝܗܘܕܐ | 3125 | 1 | Matthew 1:2 | ܐܒܪܗܡ ܐܘܠܕ ܠܐܝܣܚܩ ܐܝܣܚܩ ܐܘܠܕ ܠܝܥܩܘܒ ܝܥܩܘܒ ܐܘܠܕ ܠܝܗܘܕܐ ܘܠܐܚܘܗܝ \n",
       "ܐܚܐ | 1122 1123 1740 | 3 | Matthew 1:2 | ܐܒܪܗܡ ܐܘܠܕ ܠܐܝܣܚܩ ܐܝܣܚܩ ܐܘܠܕ ܠܝܥܩܘܒ ܝܥܩܘܒ ܐܘܠܕ ܠܝܗܘܕܐ ܘܠܐܚܘܗܝ \n",
       "ܡܠܟܐ | 1350 1862 | 3 | Matthew 1:6 | ܐܝܫܝ ܐܘܠܕ ܠܕܘܝܕ ܡܠܟܐ ܕܘܝܕ ܐܘܠܕ ܠܫܠܝܡܘܢ ܡܢ ܐܢܬܬܗ ܕܐܘܪܝܐ \n",
       "ܫܠܝܡܘܢ | 2060 | 2 | Matthew 1:6 | ܐܝܫܝ ܐܘܠܕ ܠܕܘܝܕ ܡܠܟܐ ܕܘܝܕ ܐܘܠܕ ܠܫܠܝܡܘܢ ܡܢ ܐܢܬܬܗ ܕܐܘܪܝܐ \n",
       "ܐܡܘܢ | 1579 1580 | 3 | Matthew 1:10 | ܚܙܩܝܐ ܐܘܠܕ ܠܡܢܫܐ ܡܢܫܐ ܐܘܠܕ ܠܐܡܘܢ ܐܡܘܢ ܐܘܠܕ ܠܝܘܫܝܐ \n",
       "ܝܘܣܦ | 1836 1837 1838 2162 2475 | 1 | Matthew 1:16 | ܝܥܩܘܒ ܐܘܠܕ ܠܝܘܣܦ ܓܒܪܗ ܕܡܪܝܡ ܕܡܢܗ ܐܬܝܠܕ ܝܫܘܥ ܕܡܬܩܪܐ ܡܫܝܚܐ \n",
       "ܡܪܝܡ | 1880 624 | 4 | Matthew 1:16 | ܝܥܩܘܒ ܐܘܠܕ ܠܝܘܣܦ ܓܒܪܗ ܕܡܪܝܡ ܕܡܢܗ ܐܬܝܠܕ ܝܫܘܥ ܕܡܬܩܪܐ ܡܫܝܚܐ \n",
       "ܝܠܕܐ | 1052 | 4 | Matthew 1:18 | ܝܠܕܗ ܕܝܢ ܕܝܫܘܥ ܡܫܝܚܐ ܗܟܢܐ ܗܘܐ ܟܕ ܡܟܝܪܐ ܗܘܬ ܡܪܝܡ ܐܡܗ ܠܝܘܣܦ ܥܕܠܐ ܢܫܬܘܬܦܘܢ ܐܫܬܟܚܬ ܒܛܢܐ ܡܢ ܪܘܚܐ ܕܩܘܕܫܐ \n",
       "ܥܡܢܘܐܝܠ | 473 | 1 | Matthew 1:23 | ܕܗܐ ܒܬܘܠܬܐ ܬܒܛܢ ܘܬܐܠܕ ܒܪܐ ܘܢܩܪܘܢ ܫܡܗ ܥܡܢܘܐܝܠ ܕܡܬܬܪܓܡ ܥܡܢ ܐܠܗܢ \n",
       "ܛܠܝܐ | 1494 | 1 | Matthew 2:8 | ܘܫܕܪ ܐܢܘܢ ܠܒܝܬ-ܠܚܡ ܘܐܡܪ ܠܗܘܢ ܙܠܘ ܥܩܒܘ ܥܠ ܛܠܝܐ ܚܦܝܛܐܝܬ ܘܡܐ ܕܐܫܟܚܬܘܢܝܗܝ ܬܘ ܚܘܐܘܢܝ ܕܐܦ ܐܢܐ ܐܙܠ ܐܣܓܘܕ ܠܗ \n",
       "ܚܘܐ | 1731 | 2 | Matthew 2:8 | ܘܫܕܪ ܐܢܘܢ ܠܒܝܬ-ܠܚܡ ܘܐܡܪ ܠܗܘܢ ܙܠܘ ܥܩܒܘ ܥܠ ܛܠܝܐ ܚܦܝܛܐܝܬ ܘܡܐ ܕܐܫܟܚܬܘܢܝܗܝ ܬܘ ܚܘܐܘܢܝ ܕܐܦ ܐܢܐ ܐܙܠ ܐܣܓܘܕ ܠܗ \n",
       "ܐܠܝܐ | 1698 1699 1700 1703 1704 1705 2541 3145 945 | 1 | Matthew 2:18 | ܩܠܐ ܐܫܬܡܥ ܒܪܡܬܐ ܒܟܝܐ ܘܐܠܝܐ ܣܓܝܐܐ ܪܚܝܠ ܒܟܝܐ ܥܠ ܒܢܝܗ ܘܠܐ ܨܒܝܐ ܠܡܬܒܝܐܘ ܡܛܠ ܕܠܐ ܐܝܬܝܗܘܢ \n",
       "ܐܒܐ | 1094 2582 308 | 9 | Matthew 2:22 | ܟܕ ܕܝܢ ܫܡܥ ܕܐܪܟܠܐܘܣ ܗܘܐ ܡܠܟܐ ܒܝܗܘܕ ܚܠܦ ܗܪܘܕܣ ܐܒܘܗܝ ܕܚܠ ܕܢܐܙܠ ܠܬܡܢ ܘܐܬܚܙܝ ܠܗ ܒܚܠܡܐ ܕܢܐܙܠ ܠܐܬܪܐ ܕܓܠܝܠܐ \n",
       "ܝܘܚܢܢ | 1321 1801 1802 1803 1805 1806 1811 1813 1818 1820 1821 1826 2400 2424 2449 2477 2683 2685 2686 2787 854 977 | 1 | Matthew 3:1 | ܒܗܘܢ ܕܝܢ ܒܝܘܡܬܐ ܗܢܘܢ ܐܬܐ ܝܘܚܢܢ ܡܥܡܕܢܐ ܘܡܟܪܙ ܗܘܐ ܒܚܘܪܒܐ ܕܝܗܘܕ \n",
       "ܐܫܥܝܐ | 1793 2496 3141 | 5 | Matthew 3:3 | ܗܢܘ ܓܝܪ ܗܘ ܕܐܡܝܪ ܒܝܕ ܐܫܥܝܐ ܢܒܝܐ ܩܠܐ ܕܩܪܐ ܒܚܘܪܒܐ ܛܝܒܘ ܐܘܪܚܗ ܕܡܪܝܐ ܘܐܫܘܘ ܠܫܒܝܠܘܗܝ \n",
       "ܫܡܥܘܢ | 1471 1474 1475 2093 2094 2095 2100 986 | 3 | Matthew 4:18 | ܘܟܕ ܡܗܠܟ ܥܠ ܝܕ ܝܡܐ ܕܓܠܝܠܐ ܚܙܐ ܬܪܝܢ ܐܚܝܢ ܫܡܥܘܢ ܕܐܬܩܪܝ ܟܐܦܐ ܘܐܢܕܪܐܘܣ ܐܚܘܗܝ ܕܪܡܝܢ ܡܨܝܕܬܐ ܒܝܡܐ ܐܝܬܝܗܘܢ ܗܘܘ ܓܝܪ ܨܝܕܐ \n",
       "ܐܢܕܪܐܘܣ | 2205 891 954 | 3 | Matthew 4:18 | ܘܟܕ ܡܗܠܟ ܥܠ ܝܕ ܝܡܐ ܕܓܠܝܠܐ ܚܙܐ ܬܪܝܢ ܐܚܝܢ ܫܡܥܘܢ ܕܐܬܩܪܝ ܟܐܦܐ ܘܐܢܕܪܐܘܣ ܐܚܘܗܝ ܕܪܡܝܢ ܡܨܝܕܬܐ ܒܝܡܐ ܐܝܬܝܗܘܢ ܗܘܘ ܓܝܪ ܨܝܕܐ \n",
       "ܡܣܟܢܐ | 1988 | 2 | Matthew 5:3 | ܛܘܒܝܗܘܢ ܠܡܣܟܢܐ ܒܪܘܚ ܕܕܝܠܗܘܢ ܗܝ ܡܠܟܘܬܐ ܕܫܡܝܐ \n",
       "ܝܪܬ | 1509 | 5 | Matthew 5:5 | ܛܘܒܝܗܘܢ ܠܡܟܝܟܐ ܕܗܢܘܢ ܢܐܪܬܘܢ ܠܐܪܥܐ \n",
       "ܥܒܕܐ | 1097 1099 | 2 | Matthew 5:16 | ܗܟܢܐ ܢܢܗܪ ܢܘܗܪܟܘܢ ܩܕܡ ܒܢܝܢܫܐ ܕܢܚܙܘܢ ܥܒܕܝܟܘܢ ܛܒܐ ܘܢܫܒܚܘܢ ܠܐܒܘܟܘܢ ܕܒܫܡܝܐ \n",
       "ܙܥܘܪܐ | 1524 | 4 | Matthew 5:19 | ܟܠ ܡܢ ܗܟܝܠ ܕܢܫܪܐ ܚܕ ܡܢ ܦܘܩܕܢܐ ܗܠܝܢ ܙܥܘܪܐ ܘܢܠܦ ܗܟܢܐ ܠܒܢܝܢܫܐ ܒܨܝܪܐ ܢܬܩܪܐ ܒܡܠܟܘܬܐ ܕܫܡܝܐ ܟܠ ܕܝܢ ܕܢܥܒܕ ܘܢܠܦ ܗܢܐ ܪܒܐ ܢܬܩܪܐ ܒܡܠܟܘܬܐ ܕܫܡܝܐ \n",
       "ܫܡܘܢܐ | 1486 2078 | 5 | Matthew 5:26 | ܘܐܡܝܢ ܐܡܪ ܐܢܐ ܠܟ ܕܠܐ ܬܦܘܩ ܡܢ ܬܡܢ ܥܕܡܐ ܕܬܬܠ ܫܡܘܢܐ ܐܚܪܝܐ \n",
       "ܢܘܢܐ | 2292 | 3 | Matthew 7:10 | ܘܐܢ ܢܘܢܐ ܢܫܐܠܝܘܗܝ ܠܡܐ ܚܘܝܐ ܡܘܫܛ ܠܗ \n",
       "ܚܠܐ | 1769 | 12 | Matthew 7:26 | ܘܟܠ ܡܢ ܕܫܡܥ ܡܠܝ ܗܠܝܢ ܘܠܐ ܥܒܕ ܠܗܝܢ ܢܬܕܡܐ ܠܓܒܪܐ ܣܟܠܐ ܕܒܢܐ ܒܝܬܗ ܥܠ ܚܠܐ \n",
       "ܡܬܝ | 1909 | 13 | Matthew 9:9 | ܘܟܕ ܥܒܪ ܝܫܘܥ ܡܢ ܬܡܢ ܚܙܐ ܓܒܪܐ ܕܝܬܒ ܒܝܬ ܡܟܣܐ ܕܫܡܗ ܡܬܝ ܘܐܡܪ ܠܗ ܬܐ ܒܬܪܝ ܘܩܡ ܐܙܠ ܒܬܪܗ \n",
       "ܐܣܝܐ | 1616 | 8 | Matthew 9:12 | ܝܫܘܥ ܕܝܢ ܟܕ ܫܡܥ ܐܡܪ ܠܗܘܢ ܠܐ ܣܢܝܩܝܢ ܚܠܝܡܐ ܥܠ ܐܣܝܐ ܐܠܐ ܐܝܠܝܢ ܕܒܝܫܐܝܬ ܥܒܝܕܝܢ \n",
       "ܡܐܢܐ | 2705 | 26 | Matthew 9:21 | ܐܡܪܐ ܗܘܬ ܓܝܪ ܒܢܦܫܗ ܐܦܢ ܒܠܚܘܕ ܠܡܐܢܗ ܩܪܒܐ ܐܢܐ ܡܬܐܣܝܐ ܐܢܐ \n",
       "ܦܝܠܝܦܘܣ | 1998 951 | 1 | Matthew 10:3 | ܘܦܝܠܝܦܘܣ ܘܒܪ-ܬܘܠܡܝ ܘܬܐܘܡܐ ܘܡܬܝ ܡܟܣܐ ܘܝܥܩܘܒ ܒܪ ܚܠܦܝ ܘܠܒܝ ܕܐܬܟܢܝ ܬܕܝ \n",
       "ܬܐܘܡܐ | 2123 2125 2126 2127 2586 2772 979 | 5 | Matthew 10:3 | ܘܦܝܠܝܦܘܣ ܘܒܪ-ܬܘܠܡܝ ܘܬܐܘܡܐ ܘܡܬܝ ܡܟܣܐ ܘܝܥܩܘܒ ܒܪ ܚܠܦܝ ܘܠܒܝ ܕܐܬܟܢܝ ܬܕܝ \n",
       "ܢܘܚ | 1949 3022 | 13 | Matthew 10:15 | ܘܐܡܝܢ ܐܡܪ ܐܢܐ ܠܟܘܢ ܕܠܐܪܥܐ ܕܣܕܘܡ ܘܕܥܡܘܪܐ ܢܗܘܐ ܢܝܚ ܒܝܘܡܐ ܕܕܝܢܐ ܐܘ ܠܡܕܝܢܬܐ ܗܝ \n",
       "ܝܘܢܢ | 1513 1830 | 6 | Matthew 12:39 | ܗܘ ܕܝܢ ܥܢܐ ܘܐܡܪ ܠܗܘܢ ܫܪܒܬܐ ܒܝܫܬܐ ܘܓܝܪܬܐ ܐܬܐ ܒܥܝܐ ܘܐܬܐ ܠܐ ܬܬܝܗܒ ܠܗ ܐܠܐ ܐܬܗ ܕܝܘܢܢ ܢܒܝܐ \n",
       "ܚܬܐ | 3030 | 33 | Matthew 12:50 | ܟܠܢܫ ܓܝܪ ܕܥܒܕ ܨܒܝܢܗ ܕܐܒܝ ܕܒܫܡܝܐ ܗܘܝܘ ܐܚܝ ܘܚܬܝ ܘܐܡܝ \n",
       "ܙܢܝܬܐ | 1658 | 39 | Matthew 21:31 | ܡܢܘ ܡܢ ܗܠܝܢ ܬܪܝܗܘܢ ܥܒܕ ܨܒܝܢܐ ܕܐܒܘܗܝ ܐܡܪܝܢ ܠܗ ܗܘ ܩܕܡܝܐ ܐܡܪ ܠܗܘܢ ܝܫܘܥ ܐܡܝܢ ܐܡܪ ܐܢܐ ܠܟܘܢ ܕܡܟܣܐ ܘܙܢܝܬܐ ܩܕܡܝܢ ܠܟܘܢ ܠܡܠܟܘܬܐ ܕܐܠܗܐ \n",
       "ܗܒܝܠ | 1540 1541 | 4 | Matthew 23:35 | ܐܝܟܢܐ ܕܢܐܬܐ ܥܠܝܟܘܢ ܟܠܗ ܕܡܐ ܕܙܕܝܩܐ ܕܐܬܐܫܕ ܥܠ ܐܪܥܐ ܡܢ ܕܡܗ ܕܗܒܝܠ ܙܕܝܩܐ ܘܥܕܡܐ ܠܕܡܗ ܕܙܟܪܝܐ ܒܪ ܒܪܟܝܐ ܗܘ ܕܩܛܠܬܘܢ ܒܝܢܝ ܗܝܟܠܐ ܠܡܕܒܚܐ \n",
       "ܙܟܪܝܐ | 2153 2155 2476 | 2 | Matthew 23:35 | ܐܝܟܢܐ ܕܢܐܬܐ ܥܠܝܟܘܢ ܟܠܗ ܕܡܐ ܕܙܕܝܩܐ ܕܐܬܐܫܕ ܥܠ ܐܪܥܐ ܡܢ ܕܡܗ ܕܗܒܝܠ ܙܕܝܩܐ ܘܥܕܡܐ ܠܕܡܗ ܕܙܟܪܝܐ ܒܪ ܒܪܟܝܐ ܗܘ ܕܩܛܠܬܘܢ ܒܝܢܝ ܗܝܟܠܐ ܠܡܕܒܚܐ \n",
       "ܕܢܝܐܝܠ | 1017 1200 1203 1671 1672 1673 | 28 | Matthew 24:15 | ܡܐ ܕܝܢ ܕܚܙܝܬܘܢ ܐܬܐ ܛܢܦܬܐ ܕܚܘܪܒܐ ܕܐܬܐܡܪ ܒܕܢܝܐܝܠ ܢܒܝܐ ܕܩܝܡܐ ܒܕܘܟܬܐ ܩܕܝܫܬܐ ܗܘ ܕܩܪܐ ܢܣܬܟܠ \n",
       "ܨܠܝܒܐ | 1661 | 10 | Mark 10:21 | ܝܫܘܥ ܕܝܢ ܚܪ ܒܗ ܘܐܚܒܗ ܘܐܡܪ ܠܗ ܚܕܐ ܚܣܝܪܐ ܠܟ ܙܠ ܙܒܢ ܟܠ ܡܕܡ ܕܐܝܬ ܠܟ ܘܗܒ ܠܡܣܟܢܐ ܘܬܗܘܐ ܠܟ ܣܝܡܬܐ ܒܫܡܝܐ ܘܣܒ ܨܠܝܒܐ ܘܬܐ ܒܬܪܝ \n",
       "ܐܠܟܣܢܕܪܘܣ | 1574 887 | 1 | Mark 15:21 | ܘܫܚܪܘ ܚܕ ܕܥܒܪ ܗܘܐ ܫܡܥܘܢ ܩܘܪܝܢܝܐ ܕܐܬܐ ܗܘܐ ܡܢ ܩܪܝܬܐ ܐܒܘܗܝ ܕܐܠܟܣܢܕܪܘܣ ܘܕܪܘܦܘܣ ܕܢܫܩܘܠ ܙܩܝܦܗ \n",
       "ܬܐܘܦܝܠܐ | 2812 | 17 | Luke 1:3 | ܐܬܚܙܝ ܐܦ ܠܝ ܡܛܠ ܕܩܪܝܒ ܗܘܝܬ ܝܨܝܦܐܝܬ ܠܟܠܗܘܢ ܕܟܠ ܡܕܡ ܒܛܟܣܗ ܐܟܬܘܒ ܠܟ ܢܨܝܚܐ ܬܐܘܦܝܠܐ \n",
       "ܐܗܪܘܢ | 1012 1092 1533 1534 | 3 | Luke 1:5 | ܗܘܐ ܒܝܘܡܬܗ ܕܗܪܘܕܣ ܡܠܟܐ ܕܝܗܘܕܐ ܟܗܢܐ ܚܕ ܕܫܡܗ ܗܘܐ ܙܟܪܝܐ ܡܢ ܬܫܡܫܬܐ ܕܒܝܬ ܐܒܝܐ ܘܐܢܬܬܗ ܡܢ ܒܢܬܗ ܕܐܗܪܘܢ ܫܡܗ ܗܘܐ ܐܠܝܫܒܥ \n",
       "ܣܒܐ | 2045 2046 2047 | 11 | Luke 1:18 | ܘܐܡܪ ܙܟܪܝܐ ܠܡܠܐܟܐ ܐܝܟܢܐ ܐܕܥ ܗܕܐ ܐܢܐ ܓܝܪ ܐܝܬܝ ܣܒܐ ܘܐܢܬܬܝ ܣܓܝܐܬ ܒܝܘܡܬܗ ܗܝ \n",
       "ܕܢܚܐ | 160 444 97 | 2 | Luke 1:78 | ܒܪܚܡܐ ܕܚܢܢܐ ܕܐܠܗܢ ܕܒܗܘܢ ܢܣܥܪܢ ܕܢܚܐ ܡܢ ܪܘܡܐ \n",
       "ܚܢܐ | 1590 | 4 | Luke 2:36 | ܘܚܢܐ ܕܝܢ ܢܒܝܬܐ ܒܪܬܗ ܕܦܢܘܐܝܠ ܡܢ ܫܒܛܐ ܕܐܫܝܪ ܐܦ ܗܝ ܩܫܝܫܬ ܒܝܘܡܬܗ ܗܘܬ ܘܫܒܥ ܫܢܝܢ ܥܡ ܒܥܠܗ ܚܝܬ ܡܢ ܒܬܘܠܘܬܗ \n",
       "ܐܕܝ | 1117 1118 2203 | 2 | Luke 3:28 | ܒܪ ܡܠܟܝ ܒܪ ܐܕܝ ܒܪ ܩܘܣܡ ܒܪ ܐܠܡܘܕܕ ܒܪ ܥܝܪ \n",
       "ܡܐܢܝ | 608 | 2 | Luke 3:31 | ܒܪ ܡܠܝܐ ܒܪ ܡܐܢܝ ܒܪ ܡܛܬܐ ܒܪ ܢܬܢ ܒܪ ܕܘܝܕ \n",
       "ܐܕܡ | 1560 | 208 | Luke 3:38 | ܒܪ ܐܢܘܫ ܒܪ ܫܝܬ ܒܪ ܐܕܡ ܕܡܢ ܐܠܗܐ \n",
       "ܝܚܝܕܝܐ | 2088 | 183 | Luke 7:12 | ܘܟܕ ܩܪܒ ܠܬܪܥܐ ܕܡܕܝܢܬܐ ܚܙܐ ܟܕ ܡܠܘܝܢ ܡܝܬܐ ܕܝܚܝܕܝܐ ܗܘܐ ܠܐܡܗ ܘܗܝ ܐܡܗ ܐܪܡܠܬܐ ܗܘܬ ܘܟܢܫܐ ܣܓܝܐܐ ܕܒܢܝ ܡܕܝܢܬܐ ܥܡܗ \n",
       "ܫܘܫܢ | 1168 2092 | 46 | Luke 8:3 | ܘܝܘܚܢ ܐܢܬܬ ܟܘܙܐ ܪܒܝܬܗ ܕܗܪܘܕܣ ܘܫܘܫܢ ܘܐܚܪܢܝܬܐ ܣܓܝܐܬܐ ܐܝܠܝܢ ܕܡܫܡܫܢ ܗܘܝ ܠܗܘܢ ܡܢ ܩܢܝܢܝܗܝܢ \n",
       "ܡܪܬܐ | 1370 | 137 | Luke 10:38 | ܘܗܘܐ ܕܟܕ ܗܢܘܢ ܪܕܝܢ ܒܐܘܪܚܐ ܥܠ ܠܩܪܝܬܐ ܚܕܐ ܘܐܢܬܬܐ ܕܫܡܗ ܡܪܬܐ ܩܒܠܬܗ ܒܒܝܬܗ \n",
       "ܠܥܙܪ | 1852 | 9 | Luke 16:20 | ܘܡܣܟܢܐ ܚܕ ܐܝܬ ܗܘܐ ܕܫܡܗ ܠܥܙܪ ܘܪܡܐ ܗܘܐ ܠܘܬ ܬܪܥܗ ܕܗܘ ܥܬܝܪܐ ܟܕ ܡܡܚܝ ܒܫܘܚܢܐ \n",
       "ܙܟܝ | 2156 | 26 | Luke 19:2 | ܓܒܪܐ ܚܕ ܕܫܡܗ ܙܟܝ ܥܬܝܪܐ ܗܘܐ ܘܪܒ ܡܟܣܐ \n",
       "ܥܡܐܘܣ | 91 | 56 | Luke 24:13 | ܘܗܐ ܬܪܝܢ ܡܢܗܘܢ ܒܗ ܒܝܘܡܐ ܐܙܠܝܢ ܗܘܘ ܠܩܪܝܬܐ ܕܫܡܗ ܥܡܐܘܣ ܘܦܪܝܩܐ ܡܢ ܐܘܪܫܠܡ ܐܣܛܕܘܬܐ ܫܬܝܢ \n",
       "ܢܬܢܝܐܝܠ | 1942 651 | 116 | John 1:45 | ܘܦܝܠܝܦܘܣ ܐܫܟܚ ܠܢܬܢܝܐܝܠ ܘܐܡܪ ܠܗ ܗܘ ܕܟܬܒ ܥܠܘܗܝ ܡܘܫܐ ܒܢܡܘܣܐ ܘܒܢܒܝܐ ܐܫܟܚܢܝܗܝ ܕܝܫܘܥ ܗܘ ܒܪ ܝܘܣܦ ܡܢ ܢܨܪܬ \n",
       "ܣܪܐ | 2063 | 65 | John 11:39 | ܘܐܡܪ ܝܫܘܥ ܫܩܘܠܘ ܟܐܦܐ ܗܕܐ ܐܡܪܐ ܠܗ ܡܪܬܐ ܚܬܗ ܕܗܘ ܡܝܬܐ ܡܪܝ ܡܢ ܟܕܘ ܣܪܝ ܠܗ ܐܪܒܥܐ ܠܗ ܓܝܪ ܝܘܡܝܢ \n",
       "ܐܦܪܝܡ | 1098 13 | 99 | John 11:54 | ܗܘ ܕܝܢ ܝܫܘܥ ܠܐ ܡܗܠܟ ܗܘܐ ܓܠܝܐܝܬ ܒܝܬ ܝܗܘܕܝܐ ܐܠܐ ܐܙܠ ܠܗ ܡܢ ܬܡܢ ܠܐܬܪܐ ܕܩܪܝܒ ܠܚܘܪܒܐ ܠܟܪܟܐ ܕܡܬܩܪܐ ܐܦܪܝܡ ܘܬܡܢ ܡܬܗܦܟ ܗܘܐ ܥܡ ܬܠܡܝܕܘܗܝ \n",
       "ܛܘܒܢܐ | 120 | 25 | John 13:17 | ܐܢ ܗܠܝܢ ܬܕܥܘܢ ܛܘܒܢܐ ܐܢܬܘܢ ܐܢ ܬܥܒܕܘܢ ܐܢܝܢ \n",
       "ܦܛܪܘܣ | 2005 2008 2011 2409 2733 | 19 | Acts 1:13 | ܘܡܢ ܒܬܪ ܕܥܠܘ ܣܠܩܘ ܠܗܘܢ ܠܥܠܝܬܐ ܗܝ ܕܗܘܝܢ ܗܘܘ ܒܗ ܦܛܪܘܣ ܘܝܘܚܢܢ ܘܝܥܩܘܒ ܘܐܢܕܪܐܘܣ ܘܦܝܠܝܦܘܣ ܘܬܐܘܡܐ ܘܡܬܝ ܘܒܪ-ܬܘܠܡܝ ܘܝܥܩܘܒ ܒܪ ܚܠܦܝ ܘܫܡܥܘܢ ܛܢܢܐ ܘܝܗܘܕܐ ܒܪ ܝܥܩܘܒ \n",
       "ܥܙܝܙܐ | 1531 | 97 | Acts 2:2 | ܗܘܐ ܡܢ ܫܠܝܐ ܡܢ ܫܡܝܐ ܩܠܐ ܐܝܟ ܪܘܚܐ ܥܙܝܙܬܐ ܘܐܬܡܠܝ ܗܘܐ ܡܢܗ ܟܠܗ ܒܝܬܐ ܗܘ ܕܒܗ ܝܬܒܝܢ ܗܘܘ \n",
       "ܒܪܢܒܐ | 2616 | 9 | Acts 4:36 | ܝܘܣܦ ܕܝܢ ܗܘ ܕܐܬܟܢܝ ܒܪܢܒܐ ܡܢ ܫܠܝܚܐ ܕܡܬܬܪܓܡ ܒܪܐ ܕܒܘܝܐܐ ܠܘܝܐ ܡܢ ܐܬܪܐ ܕܩܘܦܪܣ \n",
       "ܩܘܦܪܘܣ | 1657 | 16 | Acts 4:36 | ܝܘܣܦ ܕܝܢ ܗܘ ܕܐܬܟܢܝ ܒܪܢܒܐ ܡܢ ܫܠܝܚܐ ܕܡܬܬܪܓܡ ܒܪܐ ܕܒܘܝܐܐ ܠܘܝܐ ܡܢ ܐܬܪܐ ܕܩܘܦܪܣ \n",
       "ܚܢܢܝܐ | 1262 1581 1582 | 146 | Acts 5:1 | ܘܓܒܪܐ ܚܕ ܕܫܡܗ ܗܘܐ ܚܢܢܝܐ ܥܡ ܐܢܬܬܗ ܕܫܡܗ ܗܘܐ ܫܦܝܪܐ ܙܒܢ ܗܘܐ ܩܪܝܬܗ \n",
       "ܐܣܛܦܢܘܣ | 1229 1710 | 8 | Acts 6:5 | ܘܫܦܪܬ ܗܕܐ ܡܠܬܐ ܩܕܡ ܟܠܗ ܥܡܐ ܘܓܒܘ ܠܐܣܛܦܢܘܣ ܓܒܪܐ ܕܡܠܐ ܗܘܐ ܗܝܡܢܘܬܐ ܘܪܘܚܐ ܕܩܘܕܫܐ ܘܠܦܝܠܝܦܘܣ ܘܠܦܪܟܪܘܣ ܘܠܢܝܩܢܘܪ ܘܠܛܝܡܘܢ ܘܠܦܪܡܢܐ ܘܠܢܝܩܠܐܘܣ ܓܝܘܪܐ ܐܢܛܝܘܟܝܐ \n",
       "ܢܝܩܠܐܘܣ | 1946 | 2 | Acts 6:5 | ܘܫܦܪܬ ܗܕܐ ܡܠܬܐ ܩܕܡ ܟܠܗ ܥܡܐ ܘܓܒܘ ܠܐܣܛܦܢܘܣ ܓܒܪܐ ܕܡܠܐ ܗܘܐ ܗܝܡܢܘܬܐ ܘܪܘܚܐ ܕܩܘܕܫܐ ܘܠܦܝܠܝܦܘܣ ܘܠܦܪܟܪܘܣ ܘܠܢܝܩܢܘܪ ܘܠܛܝܡܘܢ ܘܠܦܪܡܢܐ ܘܠܢܝܩܠܐܘܣ ܓܝܘܪܐ ܐܢܛܝܘܟܝܐ \n",
       "ܣܝܢܝ | 3031 | 54 | Acts 7:30 | ܘܟܕ ܡܠܝ ܠܗ ܬܡܢ ܐܪܒܥܝܢ ܫܢܝܢ ܐܬܚܙܝ ܠܗ ܒܡܕܒܪܐ ܕܛܘܪ ܣܝܢܝ ܡܠܐܟܗ ܕܡܪܝܐ ܒܢܘܪܐ ܕܝܩܕܐ ܒܣܢܝܐ \n",
       "ܩܣܪܝܐ | 1641 | 14 | Acts 8:40 | ܦܝܠܝܦܘܣ ܕܝܢ ܐܫܬܟܚ ܒܐܙܘܛܘܣ ܘܡܢ ܬܡܢ ܡܬܟܪܟ ܗܘܐ ܘܡܣܒܪ ܒܡܕܝܢܬܐ ܟܠܗܝܢ ܥܕܡܐ ܕܐܬܐ ܠܩܣܪܝܐ \n",
       "ܡܪܩܘܣ | 1356 1869 1870 1872 2557 619 | 15 | Acts 12:12 | ܘܟܕ ܐܣܬܟܠ ܐܬܐ ܠܗ ܠܒܝܬܐ ܕܡܪܝܡ ܐܡܗ ܕܝܘܚܢܢ ܗܘ ܕܐܬܟܢܝ ܡܪܩܘܣ ܡܛܠ ܕܐܚܐ ܣܓܝܐܐ ܬܡܢ ܟܢܝܫܝܢ ܗܘܘ ܘܡܨܠܝܢ \n",
       "ܦܦܘܣ | 1965 | 13 | Acts 13:6 | ܘܟܕ ܐܬܟܪܟܘܗ ܠܟܠܗ ܓܙܪܬܐ ܥܕܡܐ ܠܦܦܘܣ ܡܕܝܢܬܐ ܐܫܟܚܘ ܓܒܪܐ ܚܕ ܚܪܫܐ ܝܗܘܕܝܐ ܕܐܝܬܘܗܝ ܗܘܐ ܢܒܝܐ ܕܓܠܐ ܕܫܡܗ ܗܘܐ ܒܪܫܘܡܐ \n",
       "ܦܘܠܘܣ | 1405 1976 1977 1978 1981 1983 1985 1986 1987 1990 3148 | 69 | Acts 13:9 | ܫܐܘܠ ܕܝܢ ܗܘ ܕܐܬܩܪܝ ܦܘܠܘܣ ܐܬܡܠܝ ܗܘܐ ܒܪܘܚܐ ܕܩܘܕܫܐ ܘܚܪ ܒܗ \n",
       "ܒܢܝܡܝܢ | 1172 1632 | 245 | Acts 13:21 | ܘܗܝܕܝܢ ܫܐܠܘ ܠܗܘܢ ܡܠܟܐ ܘܝܗܒ ܠܗܘܢ ܐܠܗܐ ܠܫܐܘܠ ܒܪ ܩܝܫ ܓܒܪܐ ܡܢ ܫܪܒܬܐ ܕܒܢܝܡܝܢ ܫܢܝܢ ܐܪܒܥܝܢ \n",
       "ܛܝܡܬܐܘܣ | 2129 2130 2773 | 65 | Acts 16:1 | ܘܡܛܝ ܗܘܐ ܠܕܪܒܐ ܡܕܝܢܬܐ ܘܠܠܘܣܛܪܐ ܐܝܬ ܗܘܐ ܕܝܢ ܬܡܢ ܬܠܡܝܕܐ ܚܕ ܕܫܡܗ ܛܝܡܬܐܘܣ ܒܪܗ ܕܝܗܘܕܝܬܐ ܚܕܐ ܡܗܝܡܢܬܐ ܘܐܒܘܗܝ ܐܪܡܝܐ ܗܘܐ \n",
       "ܐܬܢܘܣ | 146 | 22 | Acts 17:15 | ܘܗܢܘܢ ܕܐܬܠܘܝܘ ܠܗ ܠܦܘܠܘܣ ܐܬܘ ܥܡܗ ܥܕܡܐ ܠܐܬܢܘܣ ܡܕܝܢܬܐ ܘܟܕ ܢܦܩܝܢ ܡܢ ܨܐܕܘܗܝ ܩܒܠܘ ܡܢܗ ܐܓܪܬܐ ܠܘܬ ܫܝܠܐ ܘܛܝܡܬܐܘܣ ܕܒܥܓܠ ܢܐܙܠܘܢ ܠܘܬܗ \n",
       "ܐܦܠܘ | 1599 1601 | 20 | Acts 18:24 | ܘܓܒܪܐ ܚܕ ܕܫܡܗ ܗܘܐ ܐܦܠܘ ܝܗܘܕܝܐ ܕܐܝܬܘܗܝ ܗܘܐ ܛܘܗܡܗ ܡܢ ܐܠܟܣܢܕܪܝܐ ܘܪܕܐ ܗܘܐ ܒܡܠܬܐ ܘܡܕܩ ܗܘܐ ܒܟܬܒܐ ܐܬܐ ܠܐܦܣܘܣ \n",
       "ܣܩܘܢܕܘܣ | 727 | 2 | Acts 20:4 | ܘܢܦܩܘ ܥܡܗ ܥܕܡܐ ܠܐܣܝܐ ܣܘܦܛܪܘܣ ܕܡܢ ܒܪܘܐܐ ܡܕܝܢܬܐ ܘܐܪܣܛܪܟܘܣ ܘܣܩܘܢܕܘܣ ܕܡܢ ܬܣܠܘܢܝܩܐ ܘܓܐܝܘܣ ܕܡܢ ܕܪܒܐ ܡܕܝܢܬܐ ܘܛܝܡܬܐܘܣ ܕܡܢ ܠܘܣܛܪܐ ܘܡܢ ܐܣܝܐ ܛܘܟܝܩܘܣ ܘܛܪܘܦܝܡܘܣ \n",
       "ܡܝܠܝܛܘܣ | 1919 | 51 | Acts 20:15 | ܘܡܢ ܬܡܢ ܠܝܘܡܐ ܐܚܪܢܐ ܪܕܝܢ ܠܘܩܒܠ ܟܝܘܣ ܓܙܪܬܐ ܘܬܘܒ ܠܝܘܡܐ ܐܚܪܢܐ ܐܬܝܢ ܠܣܡܘܣ ܘܩܘܝܢ ܒܛܪܘܓܠܝܘܢ ܘܠܝܘܡܐ ܐܚܪܢܐ ܐܬܝܢ ܠܡܝܠܝܛܘܣ \n",
       "ܦܐܛܪܐ | 2013 | 29 | Acts 21:1 | ܘܦܪܫܢ ܡܢܗܘܢ ܘܪܕܝܢ ܬܪܝܨܐܝܬ ܠܩܘ ܓܙܪܬܐ ܘܠܝܘܡܐ ܐܚܪܢܐ ܐܬܝܢ ܠܪܘܕܘܣ ܘܡܢ ܬܡܢ ܠܦܐܛܪܐ \n",
       "ܒܪܢܝܩܐ | 2618 | 65 | Acts 25:13 | ܘܟܕ ܗܘܘ ܝܘܡܬܐ ܢܚܬ ܐܓܪܦܘܣ ܡܠܟܐ ܘܒܪܢܝܩܐ ܠܩܣܪܝܐ ܕܢܫܐܠܘܢ ܫܠܡܗ ܕܦܗܣܛܘܣ \n",
       "ܝܘܠܝܘܣ | 2163 | 9 | Acts 27:1 | ܘܦܩܕ ܥܠܘܗܝ ܦܗܣܛܣ ܕܢܫܬܕܪ ܠܘܬ ܩܣܪ ܠܐܝܛܠܝܐ ܘܐܫܠܡܗ ܠܦܘܠܘܣ ܘܠܐܣܝܪܐ ܐܚܪܢܐ ܥܡܗ ܠܓܒܪܐ ܚܕ ܩܢܛܪܘܢܐ ܡܢ ܐܣܦܝܪ ܣܒܣܛܐ ܕܫܡܗ ܗܘܐ ܝܘܠܝܘܣ \n",
       "ܦܘܦܠܝܘܣ | 888 | 15 | Acts 28:7 | ܐܝܬ ܗܘܐ ܕܝܢ ܩܘܪܝܐ ܒܗ ܒܗܘ ܐܬܪܐ ܠܓܒܪܐ ܚܕ ܕܫܡܗ ܗܘܐ ܦܘܦܠܝܘܣ ܕܗܘ ܗܘܐ ܪܫܗ ܕܓܙܪܬܐ ܘܩܒܠܢ ܒܒܝܬܗ ܬܠܬܐ ܝܘܡܝܢ ܚܕܝܐܝܬ \n",
       "ܗܘܫܥ | 1952 | 39 | Romans 9:25 | ܐܝܟܢܐ ܕܐܦ ܒܗܘܫܥ ܐܡܪ ܕܐܩܪܐ ܠܐܝܠܝܢ ܕܠܐ ܗܘܘ ܥܡܝ ܥܡܐ ܕܝܠܝ ܘܠܠܐ ܐܬܪܚܡܬ ܐܬܪܚܡܬ \n",
       "ܐܢܕܪܘܢܝܩܘܣ | 1588 1589 | 14 | Romans 16:7 | ܫܐܠܘ ܒܫܠܡܐ ܕܐܢܕܪܘܢܝܩܘܣ ܘܕܝܘܢܝܐ ܐܚܝܢܝ ܕܗܘܘ ܫܒܝܐ ܥܡܝ ܘܝܕܝܥܝܢ ܐܢܘܢ ܒܫܠܝܚܐ ܘܒܡܫܝܚܐ ܩܕܡܝ ܗܘܘ \n",
       "ܐܣܛܦܢܐ | 1709 3010 | 55 | 1_Corinthians 1:16 | ܐܥܡܕܬ ܕܝܢ ܐܦ ܠܒܝܬܗ ܕܐܣܛܦܢܐ ܬܘܒ ܕܝܢ ܠܐ ܝܕܥ ܐܢܐ ܐܢ ܠܐܢܫ ܐܚܪܝܢ ܐܥܡܕܬ \n",
       "ܟܪܘܒܐ | 1644 | 1 | 1_Corinthians 9:10 | ܐܠܐ ܝܕܝܥܐ ܕܡܛܠܬܢ ܗܘ ܐܡܪ ܘܡܛܠܬܢ ܓܝܪ ܐܬܟܬܒܬ ܡܛܠ ܕܥܠ ܣܒܪܐ ܗܘ ܘܠܐ ܠܗ ܠܟܪܘܒܐ ܕܢܟܪܘܒ ܘܐܝܢܐ ܕܡܕܪܟ ܥܠ ܣܒܪܐ ܕܥܠܠܬܐ \n",
       "ܪܚܝܡܐ | 2036 | 8 | Philippians 4:1 | ܡܟܝܠ ܐܚܝ ܚܒܝܒܐ ܘܪܚܝܡܐ ܘܚܕܘܬܝ ܘܟܠܝܠܝ ܗܟܢܐ ܩܘܡܘ ܒܡܪܢ ܚܒܝܒܝ \n",
       "ܩܠܡܝܣ | 1648 423 | 52 | Philippians 4:3 | ܐܦ ܡܢܟ ܒܥܐ ܐܢܐ ܒܪ ܙܘܓܝ ܫܪܝܪܐ ܕܬܗܘܐ ܡܥܕܪ ܠܗܝܢ ܕܗܢܝܢ ܠܐܝ ܥܡܝ ܒܐܘܢܓܠܝܘܢ ܥܡ ܩܠܡܝܣ ܘܥܡ ܫܪܟܐ ܕܡܥܕܪܢܝ ܗܢܘܢ ܕܫܡܗܝܗܘܢ ܟܬܝܒܝܢ ܒܟܬܒܐ ܕܚܝܐ \n",
       "ܐܢܣܝܡܘܣ | 1950 | 18 | Colossians 4:9 | ܥܡ ܐܢܣܝܡܘܣ ܐܚܐ ܡܗܝܡܢܐ ܘܚܒܝܒܐ ܗܘ ܕܐܝܬܘܗܝ ܡܢܟܘܢ ܗܢܘܢ ܢܘܕܥܘܢܟܘܢ ܡܕܡ ܕܠܘܬܢ \n",
       "ܕܕܐ | 1667 | 56 | Colossians 4:10 | ܫܐܠ ܒܫܠܡܟܘܢ ܐܪܣܛܪܟܘܣ ܫܒܝܐ ܕܥܡܝ ܘܡܪܩܘܣ ܒܪ ܕܕܗ ܕܒܪܢܒܐ ܗܘ ܕܐܬܦܩܕܬܘܢ ܥܠܘܗܝ ܕܐܢ ܐܬܐ ܠܘܬܟܘܢ ܬܩܒܠܘܢܝܗܝ \n",
       "ܠܘܩܐ | 1855 | 3 | Colossians 4:14 | ܫܐܠ ܒܫܠܡܟܘܢ ܠܘܩܐ ܐܣܝܐ ܚܒܝܒܢ ܘܕܡܐ \n",
       "ܐܘܒܘܠܘܣ | 3028 | 1 | 2_Timothy 4:21 | ܢܬܒܛܠ ܠܟ ܕܩܕܡ ܣܬܘܐ ܬܐܬܐ ܫܐܠ ܒܫܠܡܟ ܐܘܒܘܠܘܣ ܘܦܘܕܣ ܘܠܝܢܘܣ ܘܩܠܘܕܝܐ ܘܐܚܐ ܟܠܗܘܢ \n",
       "ܦܝܠܝܡܘܢ | 1996 | 4 | Philemon 1:1 | ܦܘܠܘܣ ܐܣܝܪܗ ܕܝܫܘܥ ܡܫܝܚܐ ܘܛܝܡܬܐܘܣ ܐܚܐ ܠܦܝܠܡܘܢ ܚܒܝܒܐ ܘܦܠܚܐ ܕܥܡܢ \n",
       "ܩܐܝܢ | 1635 | 15 | Hebrews 11:4 | ܒܗܝܡܢܘܬܐ ܩܪܒ ܗܒܝܠ ܕܒܚܬܐ ܕܡܝܬܪܐ ܛܒ ܡܢ ܕܩܐܝܢ ܠܐܠܗܐ ܘܡܛܠܬܗ ܗܘܬ ܥܠܘܗܝ ܣܗܕܘܬܐ ܕܟܐܢܐ ܗܘ ܘܣܗܕ ܥܠ ܩܘܪܒܢܗ ܐܠܗܐ ܘܡܛܠܬܗ ܐܦ ܟܕ ܡܝܝܬ ܡܡܠܠ \n",
       "ܫܡܫܘܢ | 2061 2062 | 2 | Hebrews 11:32 | ܘܡܢܐ ܬܘܒ ܐܡܪ ܙܥܘܪ ܗܘ ܠܝ ܓܝܪ ܙܒܢܐ ܕܐܫܬܥܐ ܥܠ ܓܕܥܘܢ ܘܥܠ ܒܪܩ ܘܥܠ ܫܡܫܘܢ ܘܥܠ ܢܦܬܚ ܘܥܠ ܕܘܝܕ ܘܥܠ ܫܡܘܐܝܠ ܘܥܠ ܫܪܟܐ ܕܢܒܝܐ \n",
       "ܚܠܝܐ | 1031 | 16 | James 3:11 | ܕܠܡܐ ܡܫܟܚܐ ܕܡܢ ܚܕ ܡܒܘܥܐ ܢܦܩܘܢ ܡܝܐ ܚܠܝܐ ܘܡܪܝܪܐ \n",
       "ܡܝܟܐܝܠ | 1921 637 | 33 | Jude 1:9 | ܡܝܟܐܝܠ ܕܝܢ ܪܝܫ ܡܠܐܟܐ ܗܘ ܕܥܡ ܐܟܠܩܪܨܐ ܟܕ ܕܐܢ ܡܡܠܠ ܗܘܐ ܡܛܠ ܦܓܪܗ ܕܡܘܫܐ ܠܐ ܐܡܪܚ ܕܢܝܬܐ ܥܠܘܗܝ ܕܝܢܐ ܕܓܘܕܦܐ ܐܠܐ ܐܡܪ ܕܢܓܥܘܪ ܒܟ ܡܪܝܐ \n",
       "ܪܘܒܝܠ | 1432 | 5 | Revelation 7:5 | ܡܢ ܫܪܒܬܗ ܕܝܗܘܕܐ ܬܪܥܣܪ ܐܠܦܝܢ ܡܢ ܫܪܒܬܗ ܕܪܘܒܝܠ ܬܪܥܣܪ ܐܠܦܝܢ ܡܢ ܫܪܒܬܗ ܕܓܕ ܬܪܥܣܪ ܐܠܦܝܢ \n",
       "ܒܬܘܠܐ | 2145 | 37 | Revelation 14:4 | ܗܠܝܢ ܐܢܘܢ ܐܝܠܝܢ ܕܥܡ ܢܫܐ ܠܐ ܐܬܛܘܫܘ ܒܬܘܠܐ ܓܝܪ ܐܝܬܝܗܘܢ ܗܠܝܢ ܕܢܩܦܘܗܝ ܠܐܡܪܐ ܟܠ ܟܪ ܕܢܐܙܠ ܗܠܝܢ ܐܙܕܒܢܘ ܡܢ ܐܢܫܐ ܪܫܝܬܐ ܠܐܠܗܐ ܘܠܐܡܪܐ \n"
      ],
      "text/plain": [
       "<IPython.core.display.Markdown object>"
      ]
     },
     "metadata": {},
     "output_type": "display_data"
    },
    {
     "data": {
      "text/markdown": [
       "### places\n",
       "lexeme | linked | n-occs | passage | verse text\n",
       "--- | --- | --- | --- | ---\n",
       "ܐܘܪܫܠܡ | 104 | 2 | Matthew 2:1 | ܟܕ ܕܝܢ ܐܬܝܠܕ ܝܫܘܥ ܒܒܝܬ-ܠܚܡ ܕܝܗܘܕܐ ܒܝܘܡܝ ܗܪܘܕܣ ܡܠܟܐ ܐܬܘ ܡܓܘܫܐ ܡܢ ܡܕܢܚܐ ܠܐܘܪܫܠܡ \n",
       "ܡܨܪܝܢ | 7 715 | 1 | Matthew 2:13 | ܟܕ ܕܝܢ ܐܙܠܘ ܐܬܚܙܝ ܡܠܐܟܐ ܕܡܪܝܐ ܒܚܠܡܐ ܠܝܘܣܦ ܘܐܡܪ ܠܗ ܩܘܡ ܕܒܪ ܠܛܠܝܐ ܘܠܐܡܗ ܘܥܪܘܩ ܠܡܨܪܝܢ ܘܬܡܢ ܗܘܝ ܥܕܡܐ ܕܐܡܪ ܐܢܐ ܠܟ ܥܬܝܕ ܗܘ ܓܝܪ ܗܪܘܕܣ ܠܡܒܥܝܗ ܠܛܠܝܐ ܐܝܟ ܕܢܘܒܕܝܘܗܝ \n",
       "ܚܡܬ | 91 | 3 | Matthew 2:16 | ܗܝܕܝܢ ܗܪܘܕܣ ܟܕ ܚܙܐ ܕܐܬܒܙܚ ܡܢ ܡܓܘܫܐ ܐܬܚܡܬ ܛܒ ܘܫܕܪ ܩܛܠ ܛܠܝܐ ܟܠܗܘܢ ܕܒܝܬ-ܠܚܡ ܘܕܟܠܗܘܢ ܬܚܘܡܝܗ ܡܢ ܒܪ ܬܪܬܝܢ ܫܢܝܢ ܘܠܬܚܬ ܐܝܟ ܙܒܢܐ ܕܥܩܒ ܡܢ ܡܓܘܫܐ \n",
       "ܥܒܪܐ | 1490 | 5 | Matthew 4:15 | ܐܪܥܐ ܕܙܒܘܠܘܢ ܐܪܥܐ ܕܢܦܬܠܝ ܐܘܪܚܐ ܕܝܡܐ ܥܒܪܘܗܝ ܕܝܘܪܕܢܢ ܓܠܝܠܐ ܕܥܡܡܐ \n",
       "ܣܘܪܝܐ | 486 | 5 | Matthew 4:24 | ܘܐܫܬܡܥ ܛܒܗ ܒܟܠܗ ܣܘܪܝܐ ܘܩܪܒܘ ܠܗ ܟܠܗܘܢ ܐܝܠܝܢ ܕܒܝܫ ܒܝܫ ܥܒܝܕܝܢ ܒܟܘܪܗܢܐ ܡܫܚܠܦܐ ܘܐܝܠܝܢ ܕܐܠܝܨܝܢ ܒܬܫܢܝܩܐ ܘܕܝܘܢܐ ܘܕܒܪ ܐܓܪܐ ܘܡܫܪܝܐ ܘܐܣܝ ܐܢܘܢ \n",
       "ܣܟܐ | 1467 | 3 | Matthew 5:34 | ܐܢܐ ܕܝܢ ܐܡܪ ܐܢܐ ܠܟܘܢ ܠܐ ܬܐܡܘܢ ܣܟ ܠܐ ܒܫܡܝܐ ܕܟܘܪܣܝܐ ܗܘ ܕܐܠܗܐ \n",
       "ܚܘܪܐ | 1456 | 4 | Matthew 5:36 | ܐܦܠܐ ܒܪܫܟ ܬܐܡܐ ܕܠܐ ܡܫܟܚ ܐܢܬ ܠܡܥܒܕ ܒܗ ܡܢܬܐ ܚܕܐ ܕܣܥܪܐ ܐܘܟܡܬܐ ܐܘ ܚܘܪܬܐ \n",
       "ܥܩܪ | 25 | 7 | Matthew 13:29 | ܗܘ ܕܝܢ ܐܡܪ ܠܗܘܢ ܕܠܡܐ ܟܕ ܡܓܒܝܢ ܐܢܬܘܢ ܙܝܙܢܐ ܬܥܩܪܘܢ ܥܡܗܘܢ ܐܦ ܚܛܐ \n",
       "ܬܠܐ | 200 | 1 | Matthew 18:6 | ܘܟܠ ܕܢܟܫܠ ܠܚܕ ܡܢ ܗܠܝܢ ܙܥܘܪܐ ܕܡܗܝܡܢܝܢ ܒܝ ܦܩܚ ܗܘܐ ܠܗ ܕܬܗܘܐ ܬܠܝܐ ܪܚܝܐ ܕܚܡܪܐ ܒܨܘܪܗ ܘܡܛܒܥ ܒܥܘܡܩܘܗܝ ܕܝܡܐ \n",
       "ܨܘܪܐ | 4 513 | 8 | Matthew 18:6 | ܘܟܠ ܕܢܟܫܠ ܠܚܕ ܡܢ ܗܠܝܢ ܙܥܘܪܐ ܕܡܗܝܡܢܝܢ ܒܝ ܦܩܚ ܗܘܐ ܠܗ ܕܬܗܘܐ ܬܠܝܐ ܪܚܝܐ ܕܚܡܪܐ ܒܨܘܪܗ ܘܡܛܒܥ ܒܥܘܡܩܘܗܝ ܕܝܡܐ \n",
       "ܚܦܪ | 331 | 2 | Matthew 21:33 | ܫܡܥܘ ܐܚܪܢܐ ܡܬܠܐ ܓܒܪܐ ܚܕ ܐܝܬ ܗܘܐ ܡܪܐ ܒܝܬܐ ܘܢܨܒ ܟܪܡܐ ܘܐܚܕܪܗ ܣܝܓܐ ܘܚܦܪ ܒܗ ܡܥܨܪܬܐ ܘܒܢܐ ܒܗ ܡܓܕܠܐ ܘܐܘܚܕܗ ܠܦܠܚܐ ܘܚܙܩ \n",
       "ܕܪܐ | 67 | 32 | Matthew 21:44 | ܘܡܢ ܕܢܦܠ ܥܠ ܟܐܦܐ ܗܕܐ ܢܬܪܥܥ ܘܟܠ ܡܢ ܕܗܝ ܬܦܠ ܥܠܘܗܝ ܬܕܪܝܘܗܝ \n",
       "ܐܪܟ | 515 | 1 | Matthew 23:5 | ܘܟܠܗܘܢ ܥܒܕܝܗܘܢ ܥܒܕܝܢ ܕܢܬܚܙܘܢ ܠܒܢܝ ܐܢܫܐ ܡܦܬܝܢ ܓܝܪ ܬܦܠܝܗܘܢ ܘܡܘܪܟܝܢ ܬܟܠܬܐ ܕܡܪܛܘܛܝܗܘܢ \n",
       "ܣܪܘܓ | 48 | 2 | Luke 3:35 | ܒܪ ܣܪܘܓ ܒܪ ܐܪܥܘ ܒܪ ܦܠܓ ܒܪ ܥܒܪ ܒܪ ܫܠܚ \n",
       "ܦܪܬ | 82 | 5 | Acts 1:18 | ܗܢܘ ܕܩܢܐ ܠܗ ܩܪܝܬܐ ܡܢ ܐܓܪܐ ܕܚܛܝܬܐ ܘܢܦܠ ܥܠ ܐܦܘܗܝ ܥܠ ܐܪܥܐ ܘܐܬܦܪܬ ܡܢ ܡܨܥܬܗ ܘܐܬܐܫܕ ܟܠܗ ܓܘܝܗ \n",
       "ܦܪܘܓܝܐ | 1525 | 1 | Acts 2:10 | ܘܕܡܢ ܐܬܪܐ ܕܦܪܘܓܝܐ ܘܕܦܡܦܘܠܝܐ ܘܕܡܨܪܝܢ ܘܕܐܬܪܘܬܐ ܕܠܘܒܐ ܕܩܪܝܒܝܢ ܠܩܘܪܝܢܐ ܘܐܝܠܝܢ ܕܐܬܘ ܡܢ ܪܗܘܡܐ ܝܗܘܕܝܐ ܘܓܝܘܪܐ \n",
       "ܩܘܦܪܘܣ | 714 | 16 | Acts 4:36 | ܝܘܣܦ ܕܝܢ ܗܘ ܕܐܬܟܢܝ ܒܪܢܒܐ ܡܢ ܫܠܝܚܐ ܕܡܬܬܪܓܡ ܒܪܐ ܕܒܘܝܐܐ ܠܘܝܐ ܡܢ ܐܬܪܐ ܕܩܘܦܪܣ \n",
       "ܐܢܛܝܘܟܝܐ | 10 995 | 44 | Acts 6:5 | ܘܫܦܪܬ ܗܕܐ ܡܠܬܐ ܩܕܡ ܟܠܗ ܥܡܐ ܘܓܒܘ ܠܐܣܛܦܢܘܣ ܓܒܪܐ ܕܡܠܐ ܗܘܐ ܗܝܡܢܘܬܐ ܘܪܘܚܐ ܕܩܘܕܫܐ ܘܠܦܝܠܝܦܘܣ ܘܠܦܪܟܪܘܣ ܘܠܢܝܩܢܘܪ ܘܠܛܝܡܘܢ ܘܠܦܪܡܢܐ ܘܠܢܝܩܠܐܘܣ ܓܝܘܪܐ ܐܢܛܝܘܟܝܐ \n",
       "ܐܠܟܣܢܕܪܝܐ | 572 | 2 | Acts 6:9 | ܘܩܡܘ ܗܘܘ ܐܢܫܐ ܡܢ ܟܢܘܫܬܐ ܕܡܬܩܪܝܐ ܕܠܝܒܪܛܝܢܘ ܘܩܘܪܝܢܝܐ ܘܐܠܟܣܢܕܪܝܐ ܘܕܡܢ ܩܝܠܝܩܝܐ ܘܡܢ ܐܣܝܐ ܘܕܪܫܝܢ ܗܘܘ ܥܡ ܐܣܛܦܢܘܣ \n",
       "ܩܝܠܝܩܝܐ | 55 | 115 | Acts 6:9 | ܘܩܡܘ ܗܘܘ ܐܢܫܐ ܡܢ ܟܢܘܫܬܐ ܕܡܬܩܪܝܐ ܕܠܝܒܪܛܝܢܘ ܘܩܘܪܝܢܝܐ ܘܐܠܟܣܢܕܪܝܐ ܘܕܡܢ ܩܝܠܝܩܝܐ ܘܡܢ ܐܣܝܐ ܘܕܪܫܝܢ ܗܘܘ ܥܡ ܐܣܛܦܢܘܣ \n",
       "ܚܪܢ | 216 | 20 | Acts 7:2 | ܗܘ ܕܝܢ ܐܡܪ ܓܒܪܐ ܐܚܝܢ ܘܐܒܗܬܢ ܫܡܥܘ ܐܠܗܐ ܕܬܫܒܘܚܬܐ ܐܬܚܙܝ ܠܐܒܘܢ ܐܒܪܗܡ ܟܕ ܐܝܬܘܗܝ ܗܘܐ ܒܝܬ-ܢܗܪܝܢ ܥܕ ܠܐ ܢܐܬܐ ܢܥܡܪ ܒܚܪܢ \n",
       "ܩܣܪܝܐ | 60 | 14 | Acts 8:40 | ܦܝܠܝܦܘܣ ܕܝܢ ܐܫܬܟܚ ܒܐܙܘܛܘܣ ܘܡܢ ܬܡܢ ܡܬܟܪܟ ܗܘܐ ܘܡܣܒܪ ܒܡܕܝܢܬܐ ܟܠܗܝܢ ܥܕܡܐ ܕܐܬܐ ܠܩܣܪܝܐ \n",
       "ܕܪܡܣܘܩ | 66 | 24 | Acts 9:2 | ܘܫܐܠ ܠܗ ܐܓܪܬܐ ܡܢ ܪܒ ܟܗܢܐ ܕܢܬܠ ܠܗ ܠܕܪܡܣܘܩ ܠܟܢܘܫܬܐ ܕܐܢ ܗܘ ܕܢܫܟܚ ܕܪܕܝܢ ܒܗܕܐ ܐܘܪܚܐ ܓܒܪܐ ܐܘ ܢܫܐ ܢܐܣܘܪ ܢܝܬܐ ܐܢܘܢ ܠܐܘܪܫܠܡ \n",
       "ܛܪܣܘܣ | 196 | 107 | Acts 9:11 | ܘܡܪܢ ܐܡܪ ܠܗ ܩܘܡ ܙܠ ܠܫܘܩܐ ܕܡܬܩܪܐ ܬܪܝܨܐ ܘܒܥܝ ܒܒܝܬܐ ܕܝܗܘܕܐ ܠܫܐܘܠ ܕܐܝܬܘܗܝ ܡܢ ܛܪܣܘܣ ܡܕܝܢܬܐ ܗܐ ܓܝܪ ܟܕ ܗܘ ܡܨܠܐ \n",
       "ܡܩܕܘܢܝܐ | 512 | 29 | Acts 16:9 | ܘܒܚܙܘܐ ܕܠܠܝܐ ܐܬܚܙܝ ܠܦܘܠܘܣ ܐܝܟ ܓܒܪܐ ܚܕ ܡܩܕܘܢܝܐ ܕܩܐܡ ܘܒܥܐ ܡܢܗ ܟܕ ܐܡܪ ܕܬܐ ܠܡܩܕܘܢܝܐ ܘܥܕܪܝܢܝ \n",
       "ܠܘܕܝܐ | 1526 | 2 | Acts 16:14 | ܘܐܢܬܬܐ ܚܕܐ ܡܙܒܢܬ ܐܪܓܘܢܐ ܕܕܚܠܐ ܗܘܬ ܡܢ ܐܠܗܐ ܫܡܗ ܗܘܐ ܠܘܕܝܐ ܡܢ ܬܐܘܛܝܪܐ ܡܕܝܢܬܐ ܕܗܕܐ ܦܬܚ ܠܒܗ ܡܪܢ ܘܫܡܥܐ ܗܘܬ ܡܕܡ ܕܐܡܪ ܦܘܠܘܣ \n",
       "ܐܦܣܘܣ | 623 | 69 | Acts 18:19 | ܘܡܛܝܘ ܠܐܦܣܘܣ ܘܥܠ ܦܘܠܘܣ ܠܟܢܘܫܬܐ ܘܡܡܠܠ ܗܘܐ ܥܡ ܝܗܘܕܝܐ \n",
       "ܓܐܝܘܣ | 1494 | 1 | Acts 19:29 | ܘܐܫܬܓܫܬ ܟܠܗ ܡܕܝܢܬܐ ܘܪܗܛܘ ܐܟܚܕܐ ܘܐܙܠܘ ܠܬܐܛܪܘܢ ܘܚܛܦܘ ܐܘܒܠܘ ܥܡܗܘܢ ܠܓܐܝܘܣ ܘܠܐܪܣܛܪܟܘܣ ܓܒܪܐ ܡܩܕܘܢܝܐ ܒܢܝ ܠܘܝܬܗ ܕܦܘܠܘܣ \n",
       "ܪܘܕܘܣ | 1534 | 3 | Acts 21:1 | ܘܦܪܫܢ ܡܢܗܘܢ ܘܪܕܝܢ ܬܪܝܨܐܝܬ ܠܩܘ ܓܙܪܬܐ ܘܠܝܘܡܐ ܐܚܪܢܐ ܐܬܝܢ ܠܪܘܕܘܣ ܘܡܢ ܬܡܢ ܠܦܐܛܪܐ \n",
       "ܦܐܛܪܐ | 157 | 29 | Acts 21:1 | ܘܦܪܫܢ ܡܢܗܘܢ ܘܪܕܝܢ ܬܪܝܨܐܝܬ ܠܩܘ ܓܙܪܬܐ ܘܠܝܘܡܐ ܐܚܪܢܐ ܐܬܝܢ ܠܪܘܕܘܣ ܘܡܢ ܬܡܢ ܠܦܐܛܪܐ \n",
       "ܠܘܩܝܐ | 1533 | 21 | Acts 27:5 | ܘܥܒܪܢ ܝܡܐ ܕܩܝܠܝܩܝܐ ܘܕܦܡܦܘܠܝܐ ܘܡܛܝܢ ܠܡܘܪܐ ܡܕܝܢܬܐ ܕܠܘܩܝܐ \n",
       "ܐܣܦܣ | 288 | 5 | Romans 3:13 | ܩܒܪܐ ܦܬܝܚܐ ܓܓܪܬܗܘܢ ܘܠܫܢܝܗܘܢ ܢܟܘܠܬܢܝܢ ܘܚܡܬܐ ܕܐܣܦܣ ܬܚܝܬ ܣܦܘܬܗܘܢ \n",
       "ܠܕܝܩܝܐ | 118 | 53 | Colossians 2:1 | ܨܒܐ ܐܢܐ ܕܝܢ ܕܬܕܥܘܢ ܐܝܢܐ ܐܓܘܢܐ ܐܝܬ ܠܝ ܚܠܦܝܟܘܢ ܘܚܠܦ ܗܢܘܢ ܕܒܠܕܝܩܝܐ ܘܚܠܦ ܫܪܟܐ ܐܝܠܝܢ ܕܦܪܨܘܦܝ ܠܐ ܚܙܘ ܒܒܣܪ \n",
       "ܩܠܘܕܝܐ | 63 | 110 | 2_Timothy 4:21 | ܢܬܒܛܠ ܠܟ ܕܩܕܡ ܣܬܘܐ ܬܐܬܐ ܫܐܠ ܒܫܠܡܟ ܐܘܒܘܠܘܣ ܘܦܘܕܣ ܘܠܝܢܘܣ ܘܩܠܘܕܝܐ ܘܐܚܐ ܟܠܗܘܢ \n",
       "ܥܙܐ | 87 | 16 | Hebrews 11:37 | ܐܚܪܢܐ ܐܬܪܓܡܘ ܐܚܪܢܐ ܐܬܢܣܪܘ ܐܚܪܢܐ ܒܦܘܡܐ ܕܣܝܦܐ ܡܝܬܘ ܐܚܪܢܐ ܐܬܟܪܟܘ ܟܕ ܠܒܝܫܝܢ ܡܫܟܐ ܕܐܡܪܐ ܘܕܥܙܐ ܘܣܢܝܩܝܢ ܘܐܠܝܨܝܢ ܘܡܛܪܦܝܢ \n",
       "ܥܒܐ | 517 | 16 | James 3:5 | ܗܟܢܐ ܐܦ ܠܫܢܐ ܗܕܡܐ ܗܘ ܙܥܘܪܐ ܘܡܫܬܥܠܐ ܐܦ ܢܘܪܐ ܙܥܘܪܬܐ ܥܒܐ ܣܓܝܐܐ ܡܘܩܕܐ \n",
       "ܨܠܚ | 2 | 92 | 3_John 1:2 | ܚܒܝܒܢ ܒܟܠܡܕܡ ܡܨܠܐ ܐܢܐ ܥܠܝܟ ܕܬܨܠܚ ܘܬܗܘܐ ܚܠܝܡ ܐܝܟ ܡܐ ܕܡܨܠܚܐ ܢܦܫܟ \n"
      ],
      "text/plain": [
       "<IPython.core.display.Markdown object>"
      ]
     },
     "metadata": {},
     "output_type": "display_data"
    }
   ],
   "source": [
    "for (dataType, theseHits) in hits.items():\n",
    "    markdown = f'''### {dataType}s\n",
    "lexeme | linked | n-occs | passage | verse text\n",
    "--- | --- | --- | --- | ---\n",
    "'''\n",
    "    for (lx, linked) in sorted(theseHits.items()):\n",
    "        lex = F.lexeme.v(lx)\n",
    "        ids = ' '.join(sorted(linked))\n",
    "        occs = L.d(lx, otype='word')\n",
    "        passage = '{} {}:{}'.format(*T.sectionFromNode(occs[0]))\n",
    "        verse = L.u(occs[0], otype='verse')[0]\n",
    "        text = T.text(L.d(verse, otype='word'))\n",
    "        markdown += f'{lex} | {ids} | {len(occs)} | {passage} | {text}\\n'\n",
    "    display(Markdown(markdown))"
   ]
  },
  {
   "cell_type": "markdown",
   "metadata": {},
   "source": [
    "# Text API\n",
    "\n",
    "So far, we have mainly seen nodes and their numbers, and the names of node types.\n",
    "You would almost forget that we are dealing with text.\n",
    "So let's try to see some text.\n",
    "\n",
    "In the same way as `F` gives access to feature data,\n",
    "`T` gives access to the text.\n",
    "That is also feature data, but you can tell Text-Fabric which features are specifically\n",
    "carrying the text, and in return Text-Fabric offers you\n",
    "a Text API: `T`.\n",
    "\n",
    "## Formats\n",
    "Syriac text can be represented in a number of ways:\n",
    "\n",
    "* in transliteration, or in Syriac characters,\n",
    "* showing the actual text or only the lexemes,\n",
    "\n",
    "If you wonder where the information about text formats is stored: \n",
    "not in the program text-fabric, but in the data set.\n",
    "It has a feature `otext`, which specifies the formats and which features\n",
    "must be used to produce them. `otext` is the third special feature in a TF data set,\n",
    "next to `otype` and `oslots`. \n",
    "It is an optional feature. \n",
    "If it is absent, there will be no `T` API.\n",
    "\n",
    "Here is a list of all available formats in this data set."
   ]
  },
  {
   "cell_type": "code",
   "execution_count": 25,
   "metadata": {
    "ExecuteTime": {
     "end_time": "2018-03-08T10:14:31.965590Z",
     "start_time": "2018-03-08T10:14:31.955945Z"
    }
   },
   "outputs": [
    {
     "data": {
      "text/plain": [
       "['lex-orig-full', 'lex-trans-full', 'text-orig-full', 'text-trans-full']"
      ]
     },
     "execution_count": 25,
     "metadata": {},
     "output_type": "execute_result"
    }
   ],
   "source": [
    "sorted(T.formats)"
   ]
  },
  {
   "cell_type": "markdown",
   "metadata": {},
   "source": [
    "## Using the formats\n",
    "Now let's use those formats to print out the first verse of the Hebrew Bible."
   ]
  },
  {
   "cell_type": "code",
   "execution_count": 26,
   "metadata": {
    "ExecuteTime": {
     "end_time": "2018-03-08T10:14:35.240131Z",
     "start_time": "2018-03-08T10:14:35.231752Z"
    }
   },
   "outputs": [
    {
     "name": "stdout",
     "output_type": "stream",
     "text": [
      "lex-orig-full:\n",
      "\tܟܬܒܐ ܝܠܝܕܘܬܐ ܝܫܘܥ ܡܫܝܚܐ ܒܪܐ ܕܘܝܕ ܒܪܐ ܐܒܪܗܡ ܐܒܪܗܡ ܝܠܕ ܐܝܣܚܩ \n",
      "lex-trans-full:\n",
      "\tCTBA ;L;DOTA ;WOE MW;KA BRA DO;D BRA ABRHM ABRHM ;LD A;SKX \n",
      "text-orig-full:\n",
      "\tܟܬܒܐ ܕܝܠܝܕܘܬܗ ܕܝܫܘܥ ܡܫܝܚܐ ܒܪܗ ܕܕܘܝܕ ܒܪܗ ܕܐܒܪܗܡ ܐܒܪܗܡ ܐܘܠܕ ܠܐܝܣܚܩ \n",
      "text-trans-full:\n",
      "\tCTBA D;L;DOTH D;WOE MW;KA BRH DDO;D BRH DABRHM ABRHM AOLD LA;SKX \n"
     ]
    }
   ],
   "source": [
    "for fmt in sorted(T.formats):\n",
    "    print('{}:\\n\\t{}'.format(fmt, T.text(range(1,12), fmt=fmt)))"
   ]
  },
  {
   "cell_type": "markdown",
   "metadata": {},
   "source": [
    "If we do not specify a format, the **default** format is used (`text-orig-full`)."
   ]
  },
  {
   "cell_type": "code",
   "execution_count": 27,
   "metadata": {
    "ExecuteTime": {
     "end_time": "2018-03-08T10:14:37.681491Z",
     "start_time": "2018-03-08T10:14:37.674538Z"
    }
   },
   "outputs": [
    {
     "name": "stdout",
     "output_type": "stream",
     "text": [
      "ܟܬܒܐ ܕܝܠܝܕܘܬܗ ܕܝܫܘܥ ܡܫܝܚܐ ܒܪܗ ܕܕܘܝܕ ܒܪܗ ܕܐܒܪܗܡ ܐܒܪܗܡ ܐܘܠܕ ܠܐܝܣܚܩ \n"
     ]
    }
   ],
   "source": [
    "print(T.text(range(1,12)))"
   ]
  },
  {
   "cell_type": "markdown",
   "metadata": {},
   "source": [
    "## Whole text in all formats in less than a second\n",
    "Part of the pleasure of working with computers is that they can crunch massive amounts of data.\n",
    "The text of the Hebrew Bible is a piece of cake.\n",
    "\n",
    "It takes just ten seconds to have that cake and eat it. \n",
    "In nearly a dozen formats."
   ]
  },
  {
   "cell_type": "code",
   "execution_count": 28,
   "metadata": {
    "ExecuteTime": {
     "end_time": "2018-03-08T10:14:40.870244Z",
     "start_time": "2018-03-08T10:14:39.998071Z"
    }
   },
   "outputs": [
    {
     "name": "stdout",
     "output_type": "stream",
     "text": [
      "  0.00s writing plain text of whole Syriac New Testament in all formats\n",
      "  0.85s done 4 formats\n",
      "lex-orig-full\n",
      "ܟܬܒܐ ܝܠܝܕܘܬܐ ܝܫܘܥ ܡܫܝܚܐ ܒܪܐ ܕܘܝܕ ܒܪܐ ܐܒܪܗܡ \n",
      "ܐܒܪܗܡ ܝܠܕ ܐܝܣܚܩ ܐܝܣܚܩ ܝܠܕ ܝܥܩܘܒ ܝܥܩܘܒ ܝܠܕ ܝܗܘܕܐ ܐܚܐ \n",
      "ܝܗܘܕܐ ܝܠܕ ܦܪܨ ܙܪܚ ܡܢ ܬܡܪ ܦܪܨ ܝܠܕ ܚܨܪܘܢ ܚܨܪܘܢ ܝܠܕ ܐܪܡ \n",
      "ܐܪܡ ܝܠܕ ܥܡܝܢܕܒ ܥܡܝܢܕܒ ܝܠܕ ܢܚܫܘܢ ܢܚܫܘܢ ܝܠܕ ܣܠܡܘܢ \n",
      "ܣܠܡܘܢ ܝܠܕ ܒܥܙ ܡܢ ܪܚܒ ܒܥܙ ܝܠܕ ܥܘܒܝܕ ܡܢ ܪܥܘܬ ܥܘܒܝܕ ܝܠܕ ܐܝܫܝ \n",
      "\n",
      "lex-trans-full\n",
      "CTBA ;L;DOTA ;WOE MW;KA BRA DO;D BRA ABRHM \n",
      "ABRHM ;LD A;SKX A;SKX ;LD ;EXOB ;EXOB ;LD ;HODA AKA \n",
      ";HODA ;LD IR/ ZRK MN TMR IR/ ;LD K/RON K/RON ;LD ARM \n",
      "ARM ;LD EM;NDB EM;NDB ;LD NKWON NKWON ;LD SLMON \n",
      "SLMON ;LD BEZ MN RKB BEZ ;LD EOB;D MN REOT EOB;D ;LD A;W; \n",
      "\n",
      "text-orig-full\n",
      "ܟܬܒܐ ܕܝܠܝܕܘܬܗ ܕܝܫܘܥ ܡܫܝܚܐ ܒܪܗ ܕܕܘܝܕ ܒܪܗ ܕܐܒܪܗܡ \n",
      "ܐܒܪܗܡ ܐܘܠܕ ܠܐܝܣܚܩ ܐܝܣܚܩ ܐܘܠܕ ܠܝܥܩܘܒ ܝܥܩܘܒ ܐܘܠܕ ܠܝܗܘܕܐ ܘܠܐܚܘܗܝ \n",
      "ܝܗܘܕܐ ܐܘܠܕ ܠܦܪܨ ܘܠܙܪܚ ܡܢ ܬܡܪ ܦܪܨ ܐܘܠܕ ܠܚܨܪܘܢ ܚܨܪܘܢ ܐܘܠܕ ܠܐܪܡ \n",
      "ܐܪܡ ܐܘܠܕ ܠܥܡܝܢܕܒ ܥܡܝܢܕܒ ܐܘܠܕ ܠܢܚܫܘܢ ܢܚܫܘܢ ܐܘܠܕ ܠܣܠܡܘܢ \n",
      "ܣܠܡܘܢ ܐܘܠܕ ܠܒܥܙ ܡܢ ܪܚܒ ܒܥܙ ܐܘܠܕ ܠܥܘܒܝܕ ܡܢ ܪܥܘܬ ܥܘܒܝܕ ܐܘܠܕ ܠܐܝܫܝ \n",
      "\n",
      "text-trans-full\n",
      "CTBA D;L;DOTH D;WOE MW;KA BRH DDO;D BRH DABRHM \n",
      "ABRHM AOLD LA;SKX A;SKX AOLD L;EXOB ;EXOB AOLD L;HODA OLAKOH; \n",
      ";HODA AOLD LIR/ OLZRK MN TMR IR/ AOLD LK/RON K/RON AOLD LARM \n",
      "ARM AOLD LEM;NDB EM;NDB AOLD LNKWON NKWON AOLD LSLMON \n",
      "SLMON AOLD LBEZ MN RKB BEZ AOLD LEOB;D MN REOT EOB;D AOLD LA;W; \n",
      "\n"
     ]
    }
   ],
   "source": [
    "indent(reset=True)\n",
    "info('writing plain text of whole Syriac New Testament in all formats')\n",
    "\n",
    "text = collections.defaultdict(list)\n",
    "\n",
    "for v in F.otype.s('verse'):\n",
    "    words = L.d(v, 'word')\n",
    "    for fmt in sorted(T.formats):\n",
    "        text[fmt].append(T.text(words, fmt=fmt))\n",
    "\n",
    "info('done {} formats'.format(len(text)))\n",
    "\n",
    "for fmt in sorted(text):\n",
    "    print('{}\\n{}\\n'.format(fmt, '\\n'.join(text[fmt][0:5])))"
   ]
  },
  {
   "cell_type": "markdown",
   "metadata": {},
   "source": [
    "### The full plain text\n",
    "We write a few formats to file, in your `Downloads` folder."
   ]
  },
  {
   "cell_type": "code",
   "execution_count": 29,
   "metadata": {
    "ExecuteTime": {
     "end_time": "2018-03-08T10:14:43.743463Z",
     "start_time": "2018-03-08T10:14:43.726787Z"
    }
   },
   "outputs": [],
   "source": [
    "orig = 'text-orig-full'\n",
    "trans = 'text-trans-full'\n",
    "for fmt in (orig, trans):\n",
    "    with open(os.path.expanduser(f'~/Downloads/{fmt}.txt'), 'w') as f:\n",
    "        f.write('\\n'.join(text[fmt]))"
   ]
  },
  {
   "cell_type": "code",
   "execution_count": 30,
   "metadata": {
    "ExecuteTime": {
     "end_time": "2018-03-08T10:14:44.766248Z",
     "start_time": "2018-03-08T10:14:44.618476Z"
    }
   },
   "outputs": [
    {
     "name": "stdout",
     "output_type": "stream",
     "text": [
      "ܟܬܒܐ ܕܝܠܝܕܘܬܗ ܕܝܫܘܥ ܡܫܝܚܐ ܒܪܗ ܕܕܘܝܕ ܒܪܗ ܕܐܒܪܗܡ \r\n",
      "ܐܒܪܗܡ ܐܘܠܕ ܠܐܝܣܚܩ ܐܝܣܚܩ ܐܘܠܕ ܠܝܥܩܘܒ ܝܥܩܘܒ ܐܘܠܕ ܠܝܗܘܕܐ ܘܠܐܚܘܗܝ \r\n",
      "ܝܗܘܕܐ ܐܘܠܕ ܠܦܪܨ ܘܠܙܪܚ ܡܢ ܬܡܪ ܦܪܨ ܐܘܠܕ ܠܚܨܪܘܢ ܚܨܪܘܢ ܐܘܠܕ ܠܐܪܡ \r\n",
      "ܐܪܡ ܐܘܠܕ ܠܥܡܝܢܕܒ ܥܡܝܢܕܒ ܐܘܠܕ ܠܢܚܫܘܢ ܢܚܫܘܢ ܐܘܠܕ ܠܣܠܡܘܢ \r\n",
      "ܣܠܡܘܢ ܐܘܠܕ ܠܒܥܙ ܡܢ ܪܚܒ ܒܥܙ ܐܘܠܕ ܠܥܘܒܝܕ ܡܢ ܪܥܘܬ ܥܘܒܝܕ ܐܘܠܕ ܠܐܝܫܝ \r\n",
      "ܐܝܫܝ ܐܘܠܕ ܠܕܘܝܕ ܡܠܟܐ ܕܘܝܕ ܐܘܠܕ ܠܫܠܝܡܘܢ ܡܢ ܐܢܬܬܗ ܕܐܘܪܝܐ \r\n",
      "ܫܠܝܡܘܢ ܐܘܠܕ ܠܪܚܒܥܡ ܪܚܒܥܡ ܐܘܠܕ ܠܐܒܝܐ ܐܒܝܐ ܐܘܠܕ ܠܐܣܐ \r\n",
      "ܐܣܐ ܐܘܠܕ ܠܝܗܘܫܦܛ ܝܗܘܫܦܛ ܐܘܠܕ ܠܝܘܪܡ ܝܘܪܡ ܐܘܠܕ ܠܥܘܙܝܐ \r\n",
      "ܥܘܙܝܐ ܐܘܠܕ ܠܝܘܬܡ ܝܘܬܡ ܐܘܠܕ ܠܐܚܙ ܐܚܙ ܐܘܠܕ ܠܚܙܩܝܐ \r\n",
      "ܚܙܩܝܐ ܐܘܠܕ ܠܡܢܫܐ ܡܢܫܐ ܐܘܠܕ ܠܐܡܘܢ ܐܡܘܢ ܐܘܠܕ ܠܝܘܫܝܐ \r\n",
      "ܝܘܫܝܐ ܐܘܠܕ ܠܝܘܟܢܝܐ ܘܠܐܚܘܗܝ ܒܓܠܘܬܐ ܕܒܒܠ \r\n",
      "ܡܢ ܒܬܪ ܓܠܘܬܐ ܕܝܢ ܕܒܒܠ ܝܘܟܢܝܐ ܐܘܠܕ ܠܫܠܬܐܝܠ ܫܠܬܐܝܠ ܐܘܠܕ ܠܙܘܪܒܒܠ \r\n",
      "ܙܘܪܒܒܠ ܐܘܠܕ ܠܐܒܝܘܕ ܐܒܝܘܕ ܐܘܠܕ ܠܐܠܝܩܝܡ ܐܠܝܩܝܡ ܐܘܠܕ ܠܥܙܘܪ \r\n",
      "ܥܙܘܪ ܐܘܠܕ ܠܙܕܘܩ ܙܕܘܩ ܐܘܠܕ ܠܐܟܝܢ ܐܟܝܢ ܐܘܠܕ ܠܐܠܝܘܕ \r\n",
      "ܐܠܝܘܕ ܐܘܠܕ ܠܐܠܝܥܙܪ ܐܠܝܥܙܪ ܐܘܠܕ ܠܡܬܢ ܡܬܢ ܐܘܠܕ ܠܝܥܩܘܒ \r\n",
      "ܝܥܩܘܒ ܐܘܠܕ ܠܝܘܣܦ ܓܒܪܗ ܕܡܪܝܡ ܕܡܢܗ ܐܬܝܠܕ ܝܫܘܥ ܕܡܬܩܪܐ ܡܫܝܚܐ \r\n",
      "ܟܠܗܝܢ ܗܟܝܠ ܫܪܒܬܐ ܡܢ ܐܒܪܗܡ ܥܕܡܐ ܠܕܘܝܕ ܫܪܒܬܐ ܐܪܒܥܣܪܐ ܘܡܢ ܕܘܝܕ ܥܕܡܐ ܠܓܠܘܬܐ ܕܒܒܠ ܫܪܒܬܐ ܐܪܒܥܣܪܐ ܘܡܢ ܓܠܘܬܐ ܕܒܒܠ ܥܕܡܐ ܠܡܫܝܚܐ ܫܪܒܬܐ ܐܪܒܥܣܪܐ \r\n",
      "ܝܠܕܗ ܕܝܢ ܕܝܫܘܥ ܡܫܝܚܐ ܗܟܢܐ ܗܘܐ ܟܕ ܡܟܝܪܐ ܗܘܬ ܡܪܝܡ ܐܡܗ ܠܝܘܣܦ ܥܕܠܐ ܢܫܬܘܬܦܘܢ ܐܫܬܟܚܬ ܒܛܢܐ ܡܢ ܪܘܚܐ ܕܩܘܕܫܐ \r\n",
      "ܝܘܣܦ ܕܝܢ ܒܥܠܗ ܟܐܢܐ ܗܘܐ ܘܠܐ ܨܒܐ ܕܢܦܪܣܝܗ ܘܐܬܪܥܝ ܗܘܐ ܕܡܛܫܝܐܝܬ ܢܫܪܝܗ \r\n",
      "ܟܕ ܗܠܝܢ ܕܝܢ ܐܬܪܥܝ ܐܬܚܙܝ ܠܗ ܡܠܐܟܐ ܕܡܪܝܐ ܒܚܠܡܐ ܘܐܡܪ ܠܗ ܝܘܣܦ ܒܪܗ ܕܕܘܝܕ ܠܐ ܬܕܚܠ ܠܡܣܒ ܠܡܪܝܡ ܐܢܬܬܟ ܗܘ ܓܝܪ ܕܐܬܝܠܕ ܒܗ ܡܢ ܪܘܚܐ ܗܘ ܕܩܘܕܫܐ \r\n"
     ]
    }
   ],
   "source": [
    "!head -n 20 ~/Downloads/{orig}.txt"
   ]
  },
  {
   "cell_type": "markdown",
   "metadata": {},
   "source": [
    "## Book names\n",
    "\n",
    "For Bible book names, we can use several languages.\n",
    "Well, in this case we have just English.\n",
    "\n",
    "### Languages\n",
    "Here are the languages that we can use for book names.\n",
    "These languages come from the features `book@ll`, where `ll` is a two letter\n",
    "ISO language code. Have a look in your data directory, you can't miss them."
   ]
  },
  {
   "cell_type": "code",
   "execution_count": 31,
   "metadata": {
    "ExecuteTime": {
     "end_time": "2018-03-08T10:14:47.152762Z",
     "start_time": "2018-03-08T10:14:47.145420Z"
    }
   },
   "outputs": [
    {
     "data": {
      "text/plain": [
       "{'': {'language': 'default', 'languageEnglish': 'default'},\n",
       " 'en': {'language': 'English', 'languageEnglish': 'English'}}"
      ]
     },
     "execution_count": 31,
     "metadata": {},
     "output_type": "execute_result"
    }
   ],
   "source": [
    "T.languages"
   ]
  },
  {
   "cell_type": "markdown",
   "metadata": {},
   "source": [
    "## Sections\n",
    "\n",
    "A section is a book, a chapter or a verse.\n",
    "Knowledge of sections is not baked into Text-Fabric. \n",
    "The config feature `otext.tf` may specify three section levels, and tell\n",
    "what the corresponding node types and features are.\n",
    "\n",
    "From that knowledge it can construct mappings from nodes to sections, e.g. from verse\n",
    "nodes to tuples of the form:\n",
    "\n",
    "    (bookName, chapterNumber, verseNumber)\n",
    "   \n",
    "Here are examples of getting the section that corresponds to a node and vice versa.\n",
    "\n",
    "**NB:** `sectionFromNode` always delivers a verse specification, either from the\n",
    "first slot belonging to that node, or, if `lastSlot`, from the last slot\n",
    "belonging to that node."
   ]
  },
  {
   "cell_type": "code",
   "execution_count": 32,
   "metadata": {
    "ExecuteTime": {
     "end_time": "2018-03-08T10:14:49.175819Z",
     "start_time": "2018-03-08T10:14:49.151007Z"
    }
   },
   "outputs": [
    {
     "name": "stdout",
     "output_type": "stream",
     "text": [
      "section of first word          ('Matthew', 1, 1)\n",
      "node of Matthew 1:1            112966\n",
      "node of book Matthew           109641\n",
      "node of chapter Matthew 1      109668\n",
      "section of book node           ('Matthew', 1, 1)\n",
      "idem, now last word            ('Matthew', 28, 20)\n",
      "section of chapter node        ('Matthew', 1, 1)\n",
      "idem, now last word            ('Matthew', 1, 25)\n"
     ]
    }
   ],
   "source": [
    "for x in (\n",
    "    ('section of first word',     T.sectionFromNode(1)                            ),\n",
    "    ('node of Matthew 1:1',       T.nodeFromSection(('Matthew', 1, 1))            ),\n",
    "    ('node of book Matthew',      T.nodeFromSection(('Matthew',))                 ),\n",
    "    ('node of chapter Matthew 1', T.nodeFromSection(('Matthew', 1))               ),\n",
    "    ('section of book node',      T.sectionFromNode(109641)                      ),\n",
    "    ('idem, now last word',       T.sectionFromNode(109641, lastSlot=True)       ),\n",
    "    ('section of chapter node',   T.sectionFromNode(109668)                      ),\n",
    "    ('idem, now last word',       T.sectionFromNode(109668, lastSlot=True)       ),\n",
    "): print('{:<30} {}'.format(*x))"
   ]
  },
  {
   "cell_type": "code",
   "execution_count": null,
   "metadata": {
    "collapsed": true
   },
   "outputs": [],
   "source": []
  }
 ],
 "metadata": {
  "kernelspec": {
   "display_name": "Python 3",
   "language": "python",
   "name": "python3"
  },
  "language_info": {
   "codemirror_mode": {
    "name": "ipython",
    "version": 3
   },
   "file_extension": ".py",
   "mimetype": "text/x-python",
   "name": "python",
   "nbconvert_exporter": "python",
   "pygments_lexer": "ipython3",
   "version": "3.6.4"
  },
  "toc": {
   "nav_menu": {},
   "number_sections": true,
   "sideBar": true,
   "skip_h1_title": false,
   "toc_cell": false,
   "toc_position": {},
   "toc_section_display": "block",
   "toc_window_display": false
  }
 },
 "nbformat": 4,
 "nbformat_minor": 1
}
