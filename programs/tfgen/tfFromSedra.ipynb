{
 "cells": [
  {
   "cell_type": "markdown",
   "metadata": {},
   "source": [
    "<img align=\"right\" src=\"images/etcbc.png\"/>\n",
    "<img align=\"right\" src=\"images/peshitta_small.png\"/>\n",
    "<img align=\"right\" src=\"images/tf-small.png\"/>\n",
    "\n",
    "\n",
    "# Link Syriaca data\n",
    "\n",
    "This notebook links Syriaca data to the Syriac New Testament.\n",
    "\n",
    "We add the links as features to the\n",
    "[Text-Fabric](https://github.com/Dans-labs/text-fabric) \n",
    "representation of SyrNT."
   ]
  },
  {
   "cell_type": "code",
   "execution_count": 1,
   "metadata": {
    "ExecuteTime": {
     "end_time": "2018-03-09T13:45:42.983528Z",
     "start_time": "2018-03-09T13:45:42.962383Z"
    }
   },
   "outputs": [],
   "source": [
    "import os\n",
    "import collections\n",
    "import operator\n",
    "from shutil import rmtree\n",
    "from glob import glob\n",
    "from functools import reduce\n",
    "from tf.fabric import Fabric"
   ]
  },
  {
   "cell_type": "code",
   "execution_count": 9,
   "metadata": {
    "ExecuteTime": {
     "end_time": "2018-03-09T13:54:03.528271Z",
     "start_time": "2018-03-09T13:54:03.516155Z"
    }
   },
   "outputs": [],
   "source": [
    "BASE_DIR = f'~/github/etcbc'\n",
    "REPO = 'linksyr'\n",
    "REPO_DIR = (f'{BASE_DIR}/{REPO}')\n",
    "TF_BASE = f'{REPO_DIR}/data/tf'\n",
    "\n",
    "CORPUS = 'syrnt'\n",
    "CORPUS_TF = f'{TF_BASE}/{CORPUS}'\n",
    "\n",
    "MODULE = 'sedra'\n",
    "MODULE_SRC = os.path.expanduser(f'{REPO_DIR}/data/csv/{MODULE}')\n",
    "MODULE_TF = os.path.expanduser(f'{REPO_DIR}/data/csv/{MODULE}')"
   ]
  },
  {
   "cell_type": "code",
   "execution_count": 3,
   "metadata": {
    "ExecuteTime": {
     "end_time": "2018-03-09T13:45:47.958990Z",
     "start_time": "2018-03-09T13:45:47.947159Z"
    }
   },
   "outputs": [
    {
     "name": "stdout",
     "output_type": "stream",
     "text": [
      "This is Text-Fabric 3.2.2\n",
      "Api reference : https://github.com/Dans-labs/text-fabric/wiki/Api\n",
      "Tutorial      : https://github.com/Dans-labs/text-fabric/blob/master/docs/tutorial.ipynb\n",
      "Example data  : https://github.com/Dans-labs/text-fabric-data\n",
      "\n",
      "37 features found and 0 ignored\n"
     ]
    }
   ],
   "source": [
    "TF = Fabric(locations=[CORPUS_TF], modules=[''], silent=False )"
   ]
  },
  {
   "cell_type": "markdown",
   "metadata": {},
   "source": [
    "# Load Features\n",
    "We load all available features of the SyrNT data."
   ]
  },
  {
   "cell_type": "code",
   "execution_count": 4,
   "metadata": {
    "ExecuteTime": {
     "end_time": "2018-03-09T13:45:53.495990Z",
     "start_time": "2018-03-09T13:45:52.148628Z"
    }
   },
   "outputs": [
    {
     "name": "stdout",
     "output_type": "stream",
     "text": [
      "  0.00s loading features ...\n",
      "   |     0.04s B aspect               from /Users/dirk/github/etcbc/linksyr/data/tf/syrnt\n",
      "   |     0.04s B demonstrative_category from /Users/dirk/github/etcbc/linksyr/data/tf/syrnt\n",
      "   |     0.02s B feminine_he_dot      from /Users/dirk/github/etcbc/linksyr/data/tf/syrnt\n",
      "   |     0.03s B gender               from /Users/dirk/github/etcbc/linksyr/data/tf/syrnt\n",
      "   |     0.04s B grammatical_category from /Users/dirk/github/etcbc/linksyr/data/tf/syrnt\n",
      "   |     0.04s B noun_type            from /Users/dirk/github/etcbc/linksyr/data/tf/syrnt\n",
      "   |     0.03s B number               from /Users/dirk/github/etcbc/linksyr/data/tf/syrnt\n",
      "   |     0.04s B numeral_type         from /Users/dirk/github/etcbc/linksyr/data/tf/syrnt\n",
      "   |     0.04s B participle_type      from /Users/dirk/github/etcbc/linksyr/data/tf/syrnt\n",
      "   |     0.03s B person               from /Users/dirk/github/etcbc/linksyr/data/tf/syrnt\n",
      "   |     0.03s B prefix               from /Users/dirk/github/etcbc/linksyr/data/tf/syrnt\n",
      "   |     0.02s B prefix_ascii         from /Users/dirk/github/etcbc/linksyr/data/tf/syrnt\n",
      "   |     0.05s B pronoun_type         from /Users/dirk/github/etcbc/linksyr/data/tf/syrnt\n",
      "   |     0.05s B root                 from /Users/dirk/github/etcbc/linksyr/data/tf/syrnt\n",
      "   |     0.04s B root_ascii           from /Users/dirk/github/etcbc/linksyr/data/tf/syrnt\n",
      "   |     0.02s B seyame               from /Users/dirk/github/etcbc/linksyr/data/tf/syrnt\n",
      "   |     0.04s B state                from /Users/dirk/github/etcbc/linksyr/data/tf/syrnt\n",
      "   |     0.06s B stem                 from /Users/dirk/github/etcbc/linksyr/data/tf/syrnt\n",
      "   |     0.04s B stem_ascii           from /Users/dirk/github/etcbc/linksyr/data/tf/syrnt\n",
      "   |     0.03s B suffix               from /Users/dirk/github/etcbc/linksyr/data/tf/syrnt\n",
      "   |     0.03s B suffix_ascii         from /Users/dirk/github/etcbc/linksyr/data/tf/syrnt\n",
      "   |     0.04s B suffix_contraction   from /Users/dirk/github/etcbc/linksyr/data/tf/syrnt\n",
      "   |     0.04s B suffix_gender        from /Users/dirk/github/etcbc/linksyr/data/tf/syrnt\n",
      "   |     0.04s B suffix_number        from /Users/dirk/github/etcbc/linksyr/data/tf/syrnt\n",
      "   |     0.04s B suffix_person        from /Users/dirk/github/etcbc/linksyr/data/tf/syrnt\n",
      "   |     0.04s B verbal_conjugation   from /Users/dirk/github/etcbc/linksyr/data/tf/syrnt\n",
      "  0.98s All additional features loaded - for details use loadLog()\n"
     ]
    }
   ],
   "source": [
    "api = TF.load('', silent=True)\n",
    "allFeatures = TF.explore(silent=True, show=True)\n",
    "loadableFeatures = allFeatures['nodes'] + allFeatures['edges']\n",
    "TF.load(loadableFeatures, add=True, silent=False)\n",
    "api.makeAvailableIn(globals())"
   ]
  },
  {
   "cell_type": "markdown",
   "metadata": {},
   "source": [
    "## SEDRA data\n",
    "\n",
    "We load the lexemes and English glosses."
   ]
  },
  {
   "cell_type": "code",
   "execution_count": 15,
   "metadata": {
    "ExecuteTime": {
     "end_time": "2018-03-09T15:41:19.155764Z",
     "start_time": "2018-03-09T15:41:19.106276Z"
    }
   },
   "outputs": [
    {
     "name": "stdout",
     "output_type": "stream",
     "text": [
      "lexemes\n",
      "\tlexeme\n",
      "\tseyame\n",
      "\tword_type\n",
      "\tgrammatical_category\n",
      "\trest\n",
      "\tfirst_suffix\n",
      "\tsecond_suffix\n",
      "\tthird_suffix\n",
      "\tprefix\n",
      "\tfirst_vowel\n",
      "\tsecond_vowel\n",
      "\tthird_vowel\n",
      "\tfourth_vowel\n",
      "\tnum_vowels\n",
      "\tradical_type\n",
      "\tverbal_conjugation\n",
      "\troot\n",
      "\troot_seyame\n",
      "\troot_type\n",
      "\tety_language\n",
      "\tety_type\n",
      "\tety_rest\n",
      "english\n",
      "\tlexemesId\n",
      "\tmeaning\n",
      "\tbefore\n",
      "\tafter\n",
      "\tcomment\n",
      "\tignore\n",
      "\tverb_type\n",
      "\tnumber\n",
      "\tgender\n"
     ]
    }
   ],
   "source": [
    "tables = {}\n",
    "fields = {}\n",
    "\n",
    "for dataType in ('lexemes', 'english'):\n",
    "    print(dataType)\n",
    "    dest = tables.setdefault(dataType, [])\n",
    "    with open(f'{MODULE_SRC}/{dataType}.csv') as fh:\n",
    "        theseFields = next(fh).rstrip('\\n').split('\\t')\n",
    "        fields[dataType] = theseFields\n",
    "        fieldsStr = '\\n\\t'.join(theseFields)\n",
    "        print(f'\\t{fieldsStr}')\n",
    "        for (i, line) in enumerate(fh):\n",
    "            dest.append(line.rstrip('\\n').split('\\t'))        "
   ]
  }
 ],
 "metadata": {
  "kernelspec": {
   "display_name": "Python 3",
   "language": "python",
   "name": "python3"
  },
  "language_info": {
   "codemirror_mode": {
    "name": "ipython",
    "version": 3
   },
   "file_extension": ".py",
   "mimetype": "text/x-python",
   "name": "python",
   "nbconvert_exporter": "python",
   "pygments_lexer": "ipython3",
   "version": "3.6.4"
  },
  "toc": {
   "nav_menu": {},
   "number_sections": true,
   "sideBar": true,
   "skip_h1_title": false,
   "toc_cell": false,
   "toc_position": {},
   "toc_section_display": "block",
   "toc_window_display": false
  }
 },
 "nbformat": 4,
 "nbformat_minor": 1
}
